{
 "cells": [
  {
   "cell_type": "code",
   "execution_count": 1,
   "id": "bb8afa9b",
   "metadata": {},
   "outputs": [],
   "source": [
    "#import Neccessory libraries\n",
    "import pandas as pd\n",
    "import numpy as np\n",
    "import matplotlib.pyplot as plt\n",
    "import seaborn as sns\n",
    "\n",
    "from sklearn.preprocessing import StandardScaler\n",
    "\n",
    "from sklearn.model_selection import train_test_split, GridSearchCV\n",
    "from sklearn.metrics import mean_absolute_error\n",
    "from sklearn.metrics import mean_squared_error\n",
    "from sklearn.metrics import r2_score\n",
    "\n",
    "import datetime\n",
    "\n",
    "\n",
    "import warnings\n",
    "warnings.filterwarnings('ignore')\n",
    "%matplotlib inline"
   ]
  },
  {
   "cell_type": "code",
   "execution_count": 2,
   "id": "ca66b43d",
   "metadata": {},
   "outputs": [
    {
     "data": {
      "text/html": [
       "<div>\n",
       "<style scoped>\n",
       "    .dataframe tbody tr th:only-of-type {\n",
       "        vertical-align: middle;\n",
       "    }\n",
       "\n",
       "    .dataframe tbody tr th {\n",
       "        vertical-align: top;\n",
       "    }\n",
       "\n",
       "    .dataframe thead th {\n",
       "        text-align: right;\n",
       "    }\n",
       "</style>\n",
       "<table border=\"1\" class=\"dataframe\">\n",
       "  <thead>\n",
       "    <tr style=\"text-align: right;\">\n",
       "      <th></th>\n",
       "      <th>Unnamed: 0</th>\n",
       "      <th>Date</th>\n",
       "      <th>AveragePrice</th>\n",
       "      <th>Total Volume</th>\n",
       "      <th>4046</th>\n",
       "      <th>4225</th>\n",
       "      <th>4770</th>\n",
       "      <th>Total Bags</th>\n",
       "      <th>Small Bags</th>\n",
       "      <th>Large Bags</th>\n",
       "      <th>XLarge Bags</th>\n",
       "      <th>type</th>\n",
       "      <th>year</th>\n",
       "      <th>region</th>\n",
       "    </tr>\n",
       "  </thead>\n",
       "  <tbody>\n",
       "    <tr>\n",
       "      <th>0</th>\n",
       "      <td>0</td>\n",
       "      <td>2015-12-27</td>\n",
       "      <td>1.33</td>\n",
       "      <td>64236.62</td>\n",
       "      <td>1036.74</td>\n",
       "      <td>54454.85</td>\n",
       "      <td>48.16</td>\n",
       "      <td>8696.87</td>\n",
       "      <td>8603.62</td>\n",
       "      <td>93.25</td>\n",
       "      <td>0.0</td>\n",
       "      <td>conventional</td>\n",
       "      <td>2015</td>\n",
       "      <td>Albany</td>\n",
       "    </tr>\n",
       "    <tr>\n",
       "      <th>1</th>\n",
       "      <td>1</td>\n",
       "      <td>2015-12-20</td>\n",
       "      <td>1.35</td>\n",
       "      <td>54876.98</td>\n",
       "      <td>674.28</td>\n",
       "      <td>44638.81</td>\n",
       "      <td>58.33</td>\n",
       "      <td>9505.56</td>\n",
       "      <td>9408.07</td>\n",
       "      <td>97.49</td>\n",
       "      <td>0.0</td>\n",
       "      <td>conventional</td>\n",
       "      <td>2015</td>\n",
       "      <td>Albany</td>\n",
       "    </tr>\n",
       "    <tr>\n",
       "      <th>2</th>\n",
       "      <td>2</td>\n",
       "      <td>2015-12-13</td>\n",
       "      <td>0.93</td>\n",
       "      <td>118220.22</td>\n",
       "      <td>794.70</td>\n",
       "      <td>109149.67</td>\n",
       "      <td>130.50</td>\n",
       "      <td>8145.35</td>\n",
       "      <td>8042.21</td>\n",
       "      <td>103.14</td>\n",
       "      <td>0.0</td>\n",
       "      <td>conventional</td>\n",
       "      <td>2015</td>\n",
       "      <td>Albany</td>\n",
       "    </tr>\n",
       "    <tr>\n",
       "      <th>3</th>\n",
       "      <td>3</td>\n",
       "      <td>2015-12-06</td>\n",
       "      <td>1.08</td>\n",
       "      <td>78992.15</td>\n",
       "      <td>1132.00</td>\n",
       "      <td>71976.41</td>\n",
       "      <td>72.58</td>\n",
       "      <td>5811.16</td>\n",
       "      <td>5677.40</td>\n",
       "      <td>133.76</td>\n",
       "      <td>0.0</td>\n",
       "      <td>conventional</td>\n",
       "      <td>2015</td>\n",
       "      <td>Albany</td>\n",
       "    </tr>\n",
       "    <tr>\n",
       "      <th>4</th>\n",
       "      <td>4</td>\n",
       "      <td>2015-11-29</td>\n",
       "      <td>1.28</td>\n",
       "      <td>51039.60</td>\n",
       "      <td>941.48</td>\n",
       "      <td>43838.39</td>\n",
       "      <td>75.78</td>\n",
       "      <td>6183.95</td>\n",
       "      <td>5986.26</td>\n",
       "      <td>197.69</td>\n",
       "      <td>0.0</td>\n",
       "      <td>conventional</td>\n",
       "      <td>2015</td>\n",
       "      <td>Albany</td>\n",
       "    </tr>\n",
       "    <tr>\n",
       "      <th>5</th>\n",
       "      <td>5</td>\n",
       "      <td>2015-11-22</td>\n",
       "      <td>1.26</td>\n",
       "      <td>55979.78</td>\n",
       "      <td>1184.27</td>\n",
       "      <td>48067.99</td>\n",
       "      <td>43.61</td>\n",
       "      <td>6683.91</td>\n",
       "      <td>6556.47</td>\n",
       "      <td>127.44</td>\n",
       "      <td>0.0</td>\n",
       "      <td>conventional</td>\n",
       "      <td>2015</td>\n",
       "      <td>Albany</td>\n",
       "    </tr>\n",
       "    <tr>\n",
       "      <th>6</th>\n",
       "      <td>6</td>\n",
       "      <td>2015-11-15</td>\n",
       "      <td>0.99</td>\n",
       "      <td>83453.76</td>\n",
       "      <td>1368.92</td>\n",
       "      <td>73672.72</td>\n",
       "      <td>93.26</td>\n",
       "      <td>8318.86</td>\n",
       "      <td>8196.81</td>\n",
       "      <td>122.05</td>\n",
       "      <td>0.0</td>\n",
       "      <td>conventional</td>\n",
       "      <td>2015</td>\n",
       "      <td>Albany</td>\n",
       "    </tr>\n",
       "    <tr>\n",
       "      <th>7</th>\n",
       "      <td>7</td>\n",
       "      <td>2015-11-08</td>\n",
       "      <td>0.98</td>\n",
       "      <td>109428.33</td>\n",
       "      <td>703.75</td>\n",
       "      <td>101815.36</td>\n",
       "      <td>80.00</td>\n",
       "      <td>6829.22</td>\n",
       "      <td>6266.85</td>\n",
       "      <td>562.37</td>\n",
       "      <td>0.0</td>\n",
       "      <td>conventional</td>\n",
       "      <td>2015</td>\n",
       "      <td>Albany</td>\n",
       "    </tr>\n",
       "    <tr>\n",
       "      <th>8</th>\n",
       "      <td>8</td>\n",
       "      <td>2015-11-01</td>\n",
       "      <td>1.02</td>\n",
       "      <td>99811.42</td>\n",
       "      <td>1022.15</td>\n",
       "      <td>87315.57</td>\n",
       "      <td>85.34</td>\n",
       "      <td>11388.36</td>\n",
       "      <td>11104.53</td>\n",
       "      <td>283.83</td>\n",
       "      <td>0.0</td>\n",
       "      <td>conventional</td>\n",
       "      <td>2015</td>\n",
       "      <td>Albany</td>\n",
       "    </tr>\n",
       "    <tr>\n",
       "      <th>9</th>\n",
       "      <td>9</td>\n",
       "      <td>2015-10-25</td>\n",
       "      <td>1.07</td>\n",
       "      <td>74338.76</td>\n",
       "      <td>842.40</td>\n",
       "      <td>64757.44</td>\n",
       "      <td>113.00</td>\n",
       "      <td>8625.92</td>\n",
       "      <td>8061.47</td>\n",
       "      <td>564.45</td>\n",
       "      <td>0.0</td>\n",
       "      <td>conventional</td>\n",
       "      <td>2015</td>\n",
       "      <td>Albany</td>\n",
       "    </tr>\n",
       "    <tr>\n",
       "      <th>10</th>\n",
       "      <td>10</td>\n",
       "      <td>2015-10-18</td>\n",
       "      <td>1.12</td>\n",
       "      <td>84843.44</td>\n",
       "      <td>924.86</td>\n",
       "      <td>75595.85</td>\n",
       "      <td>117.07</td>\n",
       "      <td>8205.66</td>\n",
       "      <td>7877.86</td>\n",
       "      <td>327.80</td>\n",
       "      <td>0.0</td>\n",
       "      <td>conventional</td>\n",
       "      <td>2015</td>\n",
       "      <td>Albany</td>\n",
       "    </tr>\n",
       "    <tr>\n",
       "      <th>11</th>\n",
       "      <td>11</td>\n",
       "      <td>2015-10-11</td>\n",
       "      <td>1.28</td>\n",
       "      <td>64489.17</td>\n",
       "      <td>1582.03</td>\n",
       "      <td>52677.92</td>\n",
       "      <td>105.32</td>\n",
       "      <td>10123.90</td>\n",
       "      <td>9866.27</td>\n",
       "      <td>257.63</td>\n",
       "      <td>0.0</td>\n",
       "      <td>conventional</td>\n",
       "      <td>2015</td>\n",
       "      <td>Albany</td>\n",
       "    </tr>\n",
       "    <tr>\n",
       "      <th>12</th>\n",
       "      <td>12</td>\n",
       "      <td>2015-10-04</td>\n",
       "      <td>1.31</td>\n",
       "      <td>61007.10</td>\n",
       "      <td>2268.32</td>\n",
       "      <td>49880.67</td>\n",
       "      <td>101.36</td>\n",
       "      <td>8756.75</td>\n",
       "      <td>8379.98</td>\n",
       "      <td>376.77</td>\n",
       "      <td>0.0</td>\n",
       "      <td>conventional</td>\n",
       "      <td>2015</td>\n",
       "      <td>Albany</td>\n",
       "    </tr>\n",
       "    <tr>\n",
       "      <th>13</th>\n",
       "      <td>13</td>\n",
       "      <td>2015-09-27</td>\n",
       "      <td>0.99</td>\n",
       "      <td>106803.39</td>\n",
       "      <td>1204.88</td>\n",
       "      <td>99409.21</td>\n",
       "      <td>154.84</td>\n",
       "      <td>6034.46</td>\n",
       "      <td>5888.87</td>\n",
       "      <td>145.59</td>\n",
       "      <td>0.0</td>\n",
       "      <td>conventional</td>\n",
       "      <td>2015</td>\n",
       "      <td>Albany</td>\n",
       "    </tr>\n",
       "    <tr>\n",
       "      <th>14</th>\n",
       "      <td>14</td>\n",
       "      <td>2015-09-20</td>\n",
       "      <td>1.33</td>\n",
       "      <td>69759.01</td>\n",
       "      <td>1028.03</td>\n",
       "      <td>59313.12</td>\n",
       "      <td>150.50</td>\n",
       "      <td>9267.36</td>\n",
       "      <td>8489.10</td>\n",
       "      <td>778.26</td>\n",
       "      <td>0.0</td>\n",
       "      <td>conventional</td>\n",
       "      <td>2015</td>\n",
       "      <td>Albany</td>\n",
       "    </tr>\n",
       "    <tr>\n",
       "      <th>15</th>\n",
       "      <td>15</td>\n",
       "      <td>2015-09-13</td>\n",
       "      <td>1.28</td>\n",
       "      <td>76111.27</td>\n",
       "      <td>985.73</td>\n",
       "      <td>65696.86</td>\n",
       "      <td>142.00</td>\n",
       "      <td>9286.68</td>\n",
       "      <td>8665.19</td>\n",
       "      <td>621.49</td>\n",
       "      <td>0.0</td>\n",
       "      <td>conventional</td>\n",
       "      <td>2015</td>\n",
       "      <td>Albany</td>\n",
       "    </tr>\n",
       "    <tr>\n",
       "      <th>16</th>\n",
       "      <td>16</td>\n",
       "      <td>2015-09-06</td>\n",
       "      <td>1.11</td>\n",
       "      <td>99172.96</td>\n",
       "      <td>879.45</td>\n",
       "      <td>90062.62</td>\n",
       "      <td>240.79</td>\n",
       "      <td>7990.10</td>\n",
       "      <td>7762.87</td>\n",
       "      <td>227.23</td>\n",
       "      <td>0.0</td>\n",
       "      <td>conventional</td>\n",
       "      <td>2015</td>\n",
       "      <td>Albany</td>\n",
       "    </tr>\n",
       "    <tr>\n",
       "      <th>17</th>\n",
       "      <td>17</td>\n",
       "      <td>2015-08-30</td>\n",
       "      <td>1.07</td>\n",
       "      <td>105693.84</td>\n",
       "      <td>689.01</td>\n",
       "      <td>94362.67</td>\n",
       "      <td>335.43</td>\n",
       "      <td>10306.73</td>\n",
       "      <td>10218.93</td>\n",
       "      <td>87.80</td>\n",
       "      <td>0.0</td>\n",
       "      <td>conventional</td>\n",
       "      <td>2015</td>\n",
       "      <td>Albany</td>\n",
       "    </tr>\n",
       "    <tr>\n",
       "      <th>18</th>\n",
       "      <td>18</td>\n",
       "      <td>2015-08-23</td>\n",
       "      <td>1.34</td>\n",
       "      <td>79992.09</td>\n",
       "      <td>733.16</td>\n",
       "      <td>67933.79</td>\n",
       "      <td>444.78</td>\n",
       "      <td>10880.36</td>\n",
       "      <td>10745.79</td>\n",
       "      <td>134.57</td>\n",
       "      <td>0.0</td>\n",
       "      <td>conventional</td>\n",
       "      <td>2015</td>\n",
       "      <td>Albany</td>\n",
       "    </tr>\n",
       "    <tr>\n",
       "      <th>19</th>\n",
       "      <td>19</td>\n",
       "      <td>2015-08-16</td>\n",
       "      <td>1.33</td>\n",
       "      <td>80043.78</td>\n",
       "      <td>539.65</td>\n",
       "      <td>68666.01</td>\n",
       "      <td>394.90</td>\n",
       "      <td>10443.22</td>\n",
       "      <td>10297.68</td>\n",
       "      <td>145.54</td>\n",
       "      <td>0.0</td>\n",
       "      <td>conventional</td>\n",
       "      <td>2015</td>\n",
       "      <td>Albany</td>\n",
       "    </tr>\n",
       "  </tbody>\n",
       "</table>\n",
       "</div>"
      ],
      "text/plain": [
       "    Unnamed: 0        Date  AveragePrice  Total Volume     4046       4225  \\\n",
       "0            0  2015-12-27          1.33      64236.62  1036.74   54454.85   \n",
       "1            1  2015-12-20          1.35      54876.98   674.28   44638.81   \n",
       "2            2  2015-12-13          0.93     118220.22   794.70  109149.67   \n",
       "3            3  2015-12-06          1.08      78992.15  1132.00   71976.41   \n",
       "4            4  2015-11-29          1.28      51039.60   941.48   43838.39   \n",
       "5            5  2015-11-22          1.26      55979.78  1184.27   48067.99   \n",
       "6            6  2015-11-15          0.99      83453.76  1368.92   73672.72   \n",
       "7            7  2015-11-08          0.98     109428.33   703.75  101815.36   \n",
       "8            8  2015-11-01          1.02      99811.42  1022.15   87315.57   \n",
       "9            9  2015-10-25          1.07      74338.76   842.40   64757.44   \n",
       "10          10  2015-10-18          1.12      84843.44   924.86   75595.85   \n",
       "11          11  2015-10-11          1.28      64489.17  1582.03   52677.92   \n",
       "12          12  2015-10-04          1.31      61007.10  2268.32   49880.67   \n",
       "13          13  2015-09-27          0.99     106803.39  1204.88   99409.21   \n",
       "14          14  2015-09-20          1.33      69759.01  1028.03   59313.12   \n",
       "15          15  2015-09-13          1.28      76111.27   985.73   65696.86   \n",
       "16          16  2015-09-06          1.11      99172.96   879.45   90062.62   \n",
       "17          17  2015-08-30          1.07     105693.84   689.01   94362.67   \n",
       "18          18  2015-08-23          1.34      79992.09   733.16   67933.79   \n",
       "19          19  2015-08-16          1.33      80043.78   539.65   68666.01   \n",
       "\n",
       "      4770  Total Bags  Small Bags  Large Bags  XLarge Bags          type  \\\n",
       "0    48.16     8696.87     8603.62       93.25          0.0  conventional   \n",
       "1    58.33     9505.56     9408.07       97.49          0.0  conventional   \n",
       "2   130.50     8145.35     8042.21      103.14          0.0  conventional   \n",
       "3    72.58     5811.16     5677.40      133.76          0.0  conventional   \n",
       "4    75.78     6183.95     5986.26      197.69          0.0  conventional   \n",
       "5    43.61     6683.91     6556.47      127.44          0.0  conventional   \n",
       "6    93.26     8318.86     8196.81      122.05          0.0  conventional   \n",
       "7    80.00     6829.22     6266.85      562.37          0.0  conventional   \n",
       "8    85.34    11388.36    11104.53      283.83          0.0  conventional   \n",
       "9   113.00     8625.92     8061.47      564.45          0.0  conventional   \n",
       "10  117.07     8205.66     7877.86      327.80          0.0  conventional   \n",
       "11  105.32    10123.90     9866.27      257.63          0.0  conventional   \n",
       "12  101.36     8756.75     8379.98      376.77          0.0  conventional   \n",
       "13  154.84     6034.46     5888.87      145.59          0.0  conventional   \n",
       "14  150.50     9267.36     8489.10      778.26          0.0  conventional   \n",
       "15  142.00     9286.68     8665.19      621.49          0.0  conventional   \n",
       "16  240.79     7990.10     7762.87      227.23          0.0  conventional   \n",
       "17  335.43    10306.73    10218.93       87.80          0.0  conventional   \n",
       "18  444.78    10880.36    10745.79      134.57          0.0  conventional   \n",
       "19  394.90    10443.22    10297.68      145.54          0.0  conventional   \n",
       "\n",
       "    year  region  \n",
       "0   2015  Albany  \n",
       "1   2015  Albany  \n",
       "2   2015  Albany  \n",
       "3   2015  Albany  \n",
       "4   2015  Albany  \n",
       "5   2015  Albany  \n",
       "6   2015  Albany  \n",
       "7   2015  Albany  \n",
       "8   2015  Albany  \n",
       "9   2015  Albany  \n",
       "10  2015  Albany  \n",
       "11  2015  Albany  \n",
       "12  2015  Albany  \n",
       "13  2015  Albany  \n",
       "14  2015  Albany  \n",
       "15  2015  Albany  \n",
       "16  2015  Albany  \n",
       "17  2015  Albany  \n",
       "18  2015  Albany  \n",
       "19  2015  Albany  "
      ]
     },
     "execution_count": 2,
     "metadata": {},
     "output_type": "execute_result"
    }
   ],
   "source": [
    "#Read csv file and convert into dataframe\n",
    "df = pd.read_csv(r\"avocado.csv\")\n",
    "df.head(20)"
   ]
  },
  {
   "cell_type": "markdown",
   "id": "0347c8fd",
   "metadata": {},
   "source": [
    "### * Information related to different features\n",
    "\n",
    "    Unnamed\t-  SNo.\n",
    "    Date  -  The date of the observation\n",
    "    AveragePrice  -  the average price of a single avocado\n",
    "    Total Volume  -  Total number of avocados sold\n",
    "    4046  -  Total number of avocados with PLU 4046 sold\n",
    "    4225  -  Total number of avocados with PLU 4225 sold\n",
    "    4770  -  Total number of avocados with PLU 4770 sold\n",
    "    Total Bags\t-  Total Number of Bags sold\n",
    "    Small Bags  -  Total Number of Small Bags sold\n",
    "    Large Bags  -  Total Number of Large Bags sold\n",
    "    XLarge Bags  -  Total Number of XLarge Bags sold\n",
    "    type  -  Organic or Conventional\n",
    "    year  -  The year of observation\n",
    "    region  -  the city or region of the observation"
   ]
  },
  {
   "cell_type": "markdown",
   "id": "27fbf1bc",
   "metadata": {},
   "source": [
    "* here the data looks like arranged sequencially by region. we need to shuffle it to get good results."
   ]
  },
  {
   "cell_type": "code",
   "execution_count": 3,
   "id": "c1b46677",
   "metadata": {},
   "outputs": [
    {
     "data": {
      "text/html": [
       "<div>\n",
       "<style scoped>\n",
       "    .dataframe tbody tr th:only-of-type {\n",
       "        vertical-align: middle;\n",
       "    }\n",
       "\n",
       "    .dataframe tbody tr th {\n",
       "        vertical-align: top;\n",
       "    }\n",
       "\n",
       "    .dataframe thead th {\n",
       "        text-align: right;\n",
       "    }\n",
       "</style>\n",
       "<table border=\"1\" class=\"dataframe\">\n",
       "  <thead>\n",
       "    <tr style=\"text-align: right;\">\n",
       "      <th></th>\n",
       "      <th>index</th>\n",
       "      <th>Unnamed: 0</th>\n",
       "      <th>Date</th>\n",
       "      <th>AveragePrice</th>\n",
       "      <th>Total Volume</th>\n",
       "      <th>4046</th>\n",
       "      <th>4225</th>\n",
       "      <th>4770</th>\n",
       "      <th>Total Bags</th>\n",
       "      <th>Small Bags</th>\n",
       "      <th>Large Bags</th>\n",
       "      <th>XLarge Bags</th>\n",
       "      <th>type</th>\n",
       "      <th>year</th>\n",
       "      <th>region</th>\n",
       "    </tr>\n",
       "  </thead>\n",
       "  <tbody>\n",
       "    <tr>\n",
       "      <th>0</th>\n",
       "      <td>7454</td>\n",
       "      <td>36</td>\n",
       "      <td>2017-04-23</td>\n",
       "      <td>1.34</td>\n",
       "      <td>117579.21</td>\n",
       "      <td>48209.57</td>\n",
       "      <td>24388.10</td>\n",
       "      <td>1515.43</td>\n",
       "      <td>43466.11</td>\n",
       "      <td>35733.48</td>\n",
       "      <td>7732.63</td>\n",
       "      <td>0.00</td>\n",
       "      <td>conventional</td>\n",
       "      <td>2017</td>\n",
       "      <td>Pittsburgh</td>\n",
       "    </tr>\n",
       "    <tr>\n",
       "      <th>1</th>\n",
       "      <td>1562</td>\n",
       "      <td>2</td>\n",
       "      <td>2015-12-13</td>\n",
       "      <td>0.95</td>\n",
       "      <td>407482.83</td>\n",
       "      <td>2970.12</td>\n",
       "      <td>369076.25</td>\n",
       "      <td>116.84</td>\n",
       "      <td>35319.62</td>\n",
       "      <td>35319.62</td>\n",
       "      <td>0.00</td>\n",
       "      <td>0.00</td>\n",
       "      <td>conventional</td>\n",
       "      <td>2015</td>\n",
       "      <td>NorthernNewEngland</td>\n",
       "    </tr>\n",
       "    <tr>\n",
       "      <th>2</th>\n",
       "      <td>17749</td>\n",
       "      <td>4</td>\n",
       "      <td>2018-02-25</td>\n",
       "      <td>1.39</td>\n",
       "      <td>36823.42</td>\n",
       "      <td>8387.30</td>\n",
       "      <td>751.32</td>\n",
       "      <td>24.81</td>\n",
       "      <td>27659.99</td>\n",
       "      <td>26783.45</td>\n",
       "      <td>876.54</td>\n",
       "      <td>0.00</td>\n",
       "      <td>organic</td>\n",
       "      <td>2018</td>\n",
       "      <td>Denver</td>\n",
       "    </tr>\n",
       "    <tr>\n",
       "      <th>3</th>\n",
       "      <td>12691</td>\n",
       "      <td>30</td>\n",
       "      <td>2016-05-29</td>\n",
       "      <td>1.69</td>\n",
       "      <td>1778.67</td>\n",
       "      <td>19.11</td>\n",
       "      <td>1245.12</td>\n",
       "      <td>0.00</td>\n",
       "      <td>514.44</td>\n",
       "      <td>486.67</td>\n",
       "      <td>27.77</td>\n",
       "      <td>0.00</td>\n",
       "      <td>organic</td>\n",
       "      <td>2016</td>\n",
       "      <td>GrandRapids</td>\n",
       "    </tr>\n",
       "    <tr>\n",
       "      <th>4</th>\n",
       "      <td>17687</td>\n",
       "      <td>2</td>\n",
       "      <td>2018-03-11</td>\n",
       "      <td>1.73</td>\n",
       "      <td>13697.68</td>\n",
       "      <td>29.01</td>\n",
       "      <td>6861.78</td>\n",
       "      <td>222.69</td>\n",
       "      <td>6584.20</td>\n",
       "      <td>6511.53</td>\n",
       "      <td>72.67</td>\n",
       "      <td>0.00</td>\n",
       "      <td>organic</td>\n",
       "      <td>2018</td>\n",
       "      <td>Charlotte</td>\n",
       "    </tr>\n",
       "    <tr>\n",
       "      <th>...</th>\n",
       "      <td>...</td>\n",
       "      <td>...</td>\n",
       "      <td>...</td>\n",
       "      <td>...</td>\n",
       "      <td>...</td>\n",
       "      <td>...</td>\n",
       "      <td>...</td>\n",
       "      <td>...</td>\n",
       "      <td>...</td>\n",
       "      <td>...</td>\n",
       "      <td>...</td>\n",
       "      <td>...</td>\n",
       "      <td>...</td>\n",
       "      <td>...</td>\n",
       "      <td>...</td>\n",
       "    </tr>\n",
       "    <tr>\n",
       "      <th>18244</th>\n",
       "      <td>5209</td>\n",
       "      <td>9</td>\n",
       "      <td>2016-10-23</td>\n",
       "      <td>1.43</td>\n",
       "      <td>2704875.68</td>\n",
       "      <td>1086334.04</td>\n",
       "      <td>625236.22</td>\n",
       "      <td>11469.22</td>\n",
       "      <td>981836.20</td>\n",
       "      <td>435847.70</td>\n",
       "      <td>543596.56</td>\n",
       "      <td>2391.94</td>\n",
       "      <td>conventional</td>\n",
       "      <td>2016</td>\n",
       "      <td>Southeast</td>\n",
       "    </tr>\n",
       "    <tr>\n",
       "      <th>18245</th>\n",
       "      <td>10681</td>\n",
       "      <td>47</td>\n",
       "      <td>2015-02-01</td>\n",
       "      <td>1.78</td>\n",
       "      <td>63537.10</td>\n",
       "      <td>3278.92</td>\n",
       "      <td>23694.61</td>\n",
       "      <td>13.97</td>\n",
       "      <td>36549.60</td>\n",
       "      <td>36537.93</td>\n",
       "      <td>11.67</td>\n",
       "      <td>0.00</td>\n",
       "      <td>organic</td>\n",
       "      <td>2015</td>\n",
       "      <td>Northeast</td>\n",
       "    </tr>\n",
       "    <tr>\n",
       "      <th>18246</th>\n",
       "      <td>1780</td>\n",
       "      <td>12</td>\n",
       "      <td>2015-10-04</td>\n",
       "      <td>0.99</td>\n",
       "      <td>89538.02</td>\n",
       "      <td>1068.04</td>\n",
       "      <td>69555.83</td>\n",
       "      <td>2321.10</td>\n",
       "      <td>16593.05</td>\n",
       "      <td>13300.88</td>\n",
       "      <td>3292.17</td>\n",
       "      <td>0.00</td>\n",
       "      <td>conventional</td>\n",
       "      <td>2015</td>\n",
       "      <td>Pittsburgh</td>\n",
       "    </tr>\n",
       "    <tr>\n",
       "      <th>18247</th>\n",
       "      <td>15124</td>\n",
       "      <td>12</td>\n",
       "      <td>2017-10-08</td>\n",
       "      <td>2.67</td>\n",
       "      <td>9398.69</td>\n",
       "      <td>30.60</td>\n",
       "      <td>3911.27</td>\n",
       "      <td>130.82</td>\n",
       "      <td>5326.00</td>\n",
       "      <td>5147.98</td>\n",
       "      <td>178.02</td>\n",
       "      <td>0.00</td>\n",
       "      <td>organic</td>\n",
       "      <td>2017</td>\n",
       "      <td>Charlotte</td>\n",
       "    </tr>\n",
       "    <tr>\n",
       "      <th>18248</th>\n",
       "      <td>7324</td>\n",
       "      <td>12</td>\n",
       "      <td>2017-10-08</td>\n",
       "      <td>1.67</td>\n",
       "      <td>331169.67</td>\n",
       "      <td>43189.77</td>\n",
       "      <td>163922.46</td>\n",
       "      <td>336.60</td>\n",
       "      <td>123720.84</td>\n",
       "      <td>117136.44</td>\n",
       "      <td>6584.40</td>\n",
       "      <td>0.00</td>\n",
       "      <td>conventional</td>\n",
       "      <td>2017</td>\n",
       "      <td>Philadelphia</td>\n",
       "    </tr>\n",
       "  </tbody>\n",
       "</table>\n",
       "<p>18249 rows × 15 columns</p>\n",
       "</div>"
      ],
      "text/plain": [
       "       index  Unnamed: 0        Date  AveragePrice  Total Volume        4046  \\\n",
       "0       7454          36  2017-04-23          1.34     117579.21    48209.57   \n",
       "1       1562           2  2015-12-13          0.95     407482.83     2970.12   \n",
       "2      17749           4  2018-02-25          1.39      36823.42     8387.30   \n",
       "3      12691          30  2016-05-29          1.69       1778.67       19.11   \n",
       "4      17687           2  2018-03-11          1.73      13697.68       29.01   \n",
       "...      ...         ...         ...           ...           ...         ...   \n",
       "18244   5209           9  2016-10-23          1.43    2704875.68  1086334.04   \n",
       "18245  10681          47  2015-02-01          1.78      63537.10     3278.92   \n",
       "18246   1780          12  2015-10-04          0.99      89538.02     1068.04   \n",
       "18247  15124          12  2017-10-08          2.67       9398.69       30.60   \n",
       "18248   7324          12  2017-10-08          1.67     331169.67    43189.77   \n",
       "\n",
       "            4225      4770  Total Bags  Small Bags  Large Bags  XLarge Bags  \\\n",
       "0       24388.10   1515.43    43466.11    35733.48     7732.63         0.00   \n",
       "1      369076.25    116.84    35319.62    35319.62        0.00         0.00   \n",
       "2         751.32     24.81    27659.99    26783.45      876.54         0.00   \n",
       "3        1245.12      0.00      514.44      486.67       27.77         0.00   \n",
       "4        6861.78    222.69     6584.20     6511.53       72.67         0.00   \n",
       "...          ...       ...         ...         ...         ...          ...   \n",
       "18244  625236.22  11469.22   981836.20   435847.70   543596.56      2391.94   \n",
       "18245   23694.61     13.97    36549.60    36537.93       11.67         0.00   \n",
       "18246   69555.83   2321.10    16593.05    13300.88     3292.17         0.00   \n",
       "18247    3911.27    130.82     5326.00     5147.98      178.02         0.00   \n",
       "18248  163922.46    336.60   123720.84   117136.44     6584.40         0.00   \n",
       "\n",
       "               type  year              region  \n",
       "0      conventional  2017          Pittsburgh  \n",
       "1      conventional  2015  NorthernNewEngland  \n",
       "2           organic  2018              Denver  \n",
       "3           organic  2016         GrandRapids  \n",
       "4           organic  2018           Charlotte  \n",
       "...             ...   ...                 ...  \n",
       "18244  conventional  2016           Southeast  \n",
       "18245       organic  2015           Northeast  \n",
       "18246  conventional  2015          Pittsburgh  \n",
       "18247       organic  2017           Charlotte  \n",
       "18248  conventional  2017        Philadelphia  \n",
       "\n",
       "[18249 rows x 15 columns]"
      ]
     },
     "execution_count": 3,
     "metadata": {},
     "output_type": "execute_result"
    }
   ],
   "source": [
    "from sklearn.utils import shuffle\n",
    "df = shuffle(df)\n",
    "df.reset_index(inplace = True)\n",
    "df"
   ]
  },
  {
   "cell_type": "code",
   "execution_count": 4,
   "id": "c47e7b6a",
   "metadata": {},
   "outputs": [
    {
     "data": {
      "text/plain": [
       "index           0\n",
       "Unnamed: 0      0\n",
       "Date            0\n",
       "AveragePrice    0\n",
       "Total Volume    0\n",
       "4046            0\n",
       "4225            0\n",
       "4770            0\n",
       "Total Bags      0\n",
       "Small Bags      0\n",
       "Large Bags      0\n",
       "XLarge Bags     0\n",
       "type            0\n",
       "year            0\n",
       "region          0\n",
       "dtype: int64"
      ]
     },
     "execution_count": 4,
     "metadata": {},
     "output_type": "execute_result"
    }
   ],
   "source": [
    "#Lets check for null values in the dataset\n",
    "df.isnull().sum()"
   ]
  },
  {
   "cell_type": "code",
   "execution_count": 5,
   "id": "4266944e",
   "metadata": {},
   "outputs": [
    {
     "data": {
      "text/plain": [
       "0"
      ]
     },
     "execution_count": 5,
     "metadata": {},
     "output_type": "execute_result"
    }
   ],
   "source": [
    "df.duplicated().sum()"
   ]
  },
  {
   "cell_type": "code",
   "execution_count": 6,
   "id": "2bb7764d",
   "metadata": {},
   "outputs": [
    {
     "name": "stdout",
     "output_type": "stream",
     "text": [
      "<class 'pandas.core.frame.DataFrame'>\n",
      "RangeIndex: 18249 entries, 0 to 18248\n",
      "Data columns (total 15 columns):\n",
      " #   Column        Non-Null Count  Dtype  \n",
      "---  ------        --------------  -----  \n",
      " 0   index         18249 non-null  int64  \n",
      " 1   Unnamed: 0    18249 non-null  int64  \n",
      " 2   Date          18249 non-null  object \n",
      " 3   AveragePrice  18249 non-null  float64\n",
      " 4   Total Volume  18249 non-null  float64\n",
      " 5   4046          18249 non-null  float64\n",
      " 6   4225          18249 non-null  float64\n",
      " 7   4770          18249 non-null  float64\n",
      " 8   Total Bags    18249 non-null  float64\n",
      " 9   Small Bags    18249 non-null  float64\n",
      " 10  Large Bags    18249 non-null  float64\n",
      " 11  XLarge Bags   18249 non-null  float64\n",
      " 12  type          18249 non-null  object \n",
      " 13  year          18249 non-null  int64  \n",
      " 14  region        18249 non-null  object \n",
      "dtypes: float64(9), int64(3), object(3)\n",
      "memory usage: 2.1+ MB\n"
     ]
    }
   ],
   "source": [
    "#Lets look at the info relates to data\n",
    "df.info()"
   ]
  },
  {
   "cell_type": "markdown",
   "id": "a42eec97",
   "metadata": {},
   "source": [
    "By looking at data types, we can see that date is not datetime, so we will solve this problem and sort the data by date. Then will divide the dates into day-month-year for a better analysis."
   ]
  },
  {
   "cell_type": "code",
   "execution_count": 7,
   "id": "e69b4c14",
   "metadata": {},
   "outputs": [
    {
     "data": {
      "text/html": [
       "<div>\n",
       "<style scoped>\n",
       "    .dataframe tbody tr th:only-of-type {\n",
       "        vertical-align: middle;\n",
       "    }\n",
       "\n",
       "    .dataframe tbody tr th {\n",
       "        vertical-align: top;\n",
       "    }\n",
       "\n",
       "    .dataframe thead th {\n",
       "        text-align: right;\n",
       "    }\n",
       "</style>\n",
       "<table border=\"1\" class=\"dataframe\">\n",
       "  <thead>\n",
       "    <tr style=\"text-align: right;\">\n",
       "      <th></th>\n",
       "      <th>index</th>\n",
       "      <th>Unnamed: 0</th>\n",
       "      <th>Date</th>\n",
       "      <th>AveragePrice</th>\n",
       "      <th>Total Volume</th>\n",
       "      <th>4046</th>\n",
       "      <th>4225</th>\n",
       "      <th>4770</th>\n",
       "      <th>Total Bags</th>\n",
       "      <th>Small Bags</th>\n",
       "      <th>Large Bags</th>\n",
       "      <th>XLarge Bags</th>\n",
       "      <th>type</th>\n",
       "      <th>year</th>\n",
       "      <th>region</th>\n",
       "      <th>Year</th>\n",
       "      <th>Month</th>\n",
       "      <th>Day</th>\n",
       "    </tr>\n",
       "  </thead>\n",
       "  <tbody>\n",
       "    <tr>\n",
       "      <th>0</th>\n",
       "      <td>7454</td>\n",
       "      <td>36</td>\n",
       "      <td>2017-04-23</td>\n",
       "      <td>1.34</td>\n",
       "      <td>117579.21</td>\n",
       "      <td>48209.57</td>\n",
       "      <td>24388.10</td>\n",
       "      <td>1515.43</td>\n",
       "      <td>43466.11</td>\n",
       "      <td>35733.48</td>\n",
       "      <td>7732.63</td>\n",
       "      <td>0.0</td>\n",
       "      <td>conventional</td>\n",
       "      <td>2017</td>\n",
       "      <td>Pittsburgh</td>\n",
       "      <td>2017</td>\n",
       "      <td>04</td>\n",
       "      <td>23</td>\n",
       "    </tr>\n",
       "    <tr>\n",
       "      <th>1</th>\n",
       "      <td>1562</td>\n",
       "      <td>2</td>\n",
       "      <td>2015-12-13</td>\n",
       "      <td>0.95</td>\n",
       "      <td>407482.83</td>\n",
       "      <td>2970.12</td>\n",
       "      <td>369076.25</td>\n",
       "      <td>116.84</td>\n",
       "      <td>35319.62</td>\n",
       "      <td>35319.62</td>\n",
       "      <td>0.00</td>\n",
       "      <td>0.0</td>\n",
       "      <td>conventional</td>\n",
       "      <td>2015</td>\n",
       "      <td>NorthernNewEngland</td>\n",
       "      <td>2015</td>\n",
       "      <td>12</td>\n",
       "      <td>13</td>\n",
       "    </tr>\n",
       "    <tr>\n",
       "      <th>2</th>\n",
       "      <td>17749</td>\n",
       "      <td>4</td>\n",
       "      <td>2018-02-25</td>\n",
       "      <td>1.39</td>\n",
       "      <td>36823.42</td>\n",
       "      <td>8387.30</td>\n",
       "      <td>751.32</td>\n",
       "      <td>24.81</td>\n",
       "      <td>27659.99</td>\n",
       "      <td>26783.45</td>\n",
       "      <td>876.54</td>\n",
       "      <td>0.0</td>\n",
       "      <td>organic</td>\n",
       "      <td>2018</td>\n",
       "      <td>Denver</td>\n",
       "      <td>2018</td>\n",
       "      <td>02</td>\n",
       "      <td>25</td>\n",
       "    </tr>\n",
       "    <tr>\n",
       "      <th>3</th>\n",
       "      <td>12691</td>\n",
       "      <td>30</td>\n",
       "      <td>2016-05-29</td>\n",
       "      <td>1.69</td>\n",
       "      <td>1778.67</td>\n",
       "      <td>19.11</td>\n",
       "      <td>1245.12</td>\n",
       "      <td>0.00</td>\n",
       "      <td>514.44</td>\n",
       "      <td>486.67</td>\n",
       "      <td>27.77</td>\n",
       "      <td>0.0</td>\n",
       "      <td>organic</td>\n",
       "      <td>2016</td>\n",
       "      <td>GrandRapids</td>\n",
       "      <td>2016</td>\n",
       "      <td>05</td>\n",
       "      <td>29</td>\n",
       "    </tr>\n",
       "    <tr>\n",
       "      <th>4</th>\n",
       "      <td>17687</td>\n",
       "      <td>2</td>\n",
       "      <td>2018-03-11</td>\n",
       "      <td>1.73</td>\n",
       "      <td>13697.68</td>\n",
       "      <td>29.01</td>\n",
       "      <td>6861.78</td>\n",
       "      <td>222.69</td>\n",
       "      <td>6584.20</td>\n",
       "      <td>6511.53</td>\n",
       "      <td>72.67</td>\n",
       "      <td>0.0</td>\n",
       "      <td>organic</td>\n",
       "      <td>2018</td>\n",
       "      <td>Charlotte</td>\n",
       "      <td>2018</td>\n",
       "      <td>03</td>\n",
       "      <td>11</td>\n",
       "    </tr>\n",
       "    <tr>\n",
       "      <th>5</th>\n",
       "      <td>11363</td>\n",
       "      <td>1</td>\n",
       "      <td>2015-12-20</td>\n",
       "      <td>1.55</td>\n",
       "      <td>22819.10</td>\n",
       "      <td>505.82</td>\n",
       "      <td>13425.90</td>\n",
       "      <td>12.02</td>\n",
       "      <td>8875.36</td>\n",
       "      <td>51.94</td>\n",
       "      <td>8823.42</td>\n",
       "      <td>0.0</td>\n",
       "      <td>organic</td>\n",
       "      <td>2015</td>\n",
       "      <td>Seattle</td>\n",
       "      <td>2015</td>\n",
       "      <td>12</td>\n",
       "      <td>20</td>\n",
       "    </tr>\n",
       "    <tr>\n",
       "      <th>6</th>\n",
       "      <td>2098</td>\n",
       "      <td>18</td>\n",
       "      <td>2015-08-23</td>\n",
       "      <td>1.26</td>\n",
       "      <td>405274.71</td>\n",
       "      <td>112710.34</td>\n",
       "      <td>233164.62</td>\n",
       "      <td>12415.75</td>\n",
       "      <td>46984.00</td>\n",
       "      <td>46984.00</td>\n",
       "      <td>0.00</td>\n",
       "      <td>0.0</td>\n",
       "      <td>conventional</td>\n",
       "      <td>2015</td>\n",
       "      <td>Sacramento</td>\n",
       "      <td>2015</td>\n",
       "      <td>08</td>\n",
       "      <td>23</td>\n",
       "    </tr>\n",
       "    <tr>\n",
       "      <th>7</th>\n",
       "      <td>2026</td>\n",
       "      <td>50</td>\n",
       "      <td>2015-01-11</td>\n",
       "      <td>1.15</td>\n",
       "      <td>194460.59</td>\n",
       "      <td>71743.11</td>\n",
       "      <td>66849.97</td>\n",
       "      <td>10952.11</td>\n",
       "      <td>44915.40</td>\n",
       "      <td>36160.54</td>\n",
       "      <td>8754.86</td>\n",
       "      <td>0.0</td>\n",
       "      <td>conventional</td>\n",
       "      <td>2015</td>\n",
       "      <td>RichmondNorfolk</td>\n",
       "      <td>2015</td>\n",
       "      <td>01</td>\n",
       "      <td>11</td>\n",
       "    </tr>\n",
       "    <tr>\n",
       "      <th>8</th>\n",
       "      <td>10597</td>\n",
       "      <td>15</td>\n",
       "      <td>2015-09-13</td>\n",
       "      <td>2.18</td>\n",
       "      <td>14667.53</td>\n",
       "      <td>2210.93</td>\n",
       "      <td>9782.05</td>\n",
       "      <td>815.60</td>\n",
       "      <td>1858.95</td>\n",
       "      <td>1855.37</td>\n",
       "      <td>3.58</td>\n",
       "      <td>0.0</td>\n",
       "      <td>organic</td>\n",
       "      <td>2015</td>\n",
       "      <td>NewYork</td>\n",
       "      <td>2015</td>\n",
       "      <td>09</td>\n",
       "      <td>13</td>\n",
       "    </tr>\n",
       "    <tr>\n",
       "      <th>9</th>\n",
       "      <td>11379</td>\n",
       "      <td>17</td>\n",
       "      <td>2015-08-30</td>\n",
       "      <td>1.58</td>\n",
       "      <td>48176.23</td>\n",
       "      <td>5555.85</td>\n",
       "      <td>35591.33</td>\n",
       "      <td>2.66</td>\n",
       "      <td>7026.39</td>\n",
       "      <td>0.00</td>\n",
       "      <td>7026.39</td>\n",
       "      <td>0.0</td>\n",
       "      <td>organic</td>\n",
       "      <td>2015</td>\n",
       "      <td>Seattle</td>\n",
       "      <td>2015</td>\n",
       "      <td>08</td>\n",
       "      <td>30</td>\n",
       "    </tr>\n",
       "  </tbody>\n",
       "</table>\n",
       "</div>"
      ],
      "text/plain": [
       "   index  Unnamed: 0        Date  AveragePrice  Total Volume       4046  \\\n",
       "0   7454          36  2017-04-23          1.34     117579.21   48209.57   \n",
       "1   1562           2  2015-12-13          0.95     407482.83    2970.12   \n",
       "2  17749           4  2018-02-25          1.39      36823.42    8387.30   \n",
       "3  12691          30  2016-05-29          1.69       1778.67      19.11   \n",
       "4  17687           2  2018-03-11          1.73      13697.68      29.01   \n",
       "5  11363           1  2015-12-20          1.55      22819.10     505.82   \n",
       "6   2098          18  2015-08-23          1.26     405274.71  112710.34   \n",
       "7   2026          50  2015-01-11          1.15     194460.59   71743.11   \n",
       "8  10597          15  2015-09-13          2.18      14667.53    2210.93   \n",
       "9  11379          17  2015-08-30          1.58      48176.23    5555.85   \n",
       "\n",
       "        4225      4770  Total Bags  Small Bags  Large Bags  XLarge Bags  \\\n",
       "0   24388.10   1515.43    43466.11    35733.48     7732.63          0.0   \n",
       "1  369076.25    116.84    35319.62    35319.62        0.00          0.0   \n",
       "2     751.32     24.81    27659.99    26783.45      876.54          0.0   \n",
       "3    1245.12      0.00      514.44      486.67       27.77          0.0   \n",
       "4    6861.78    222.69     6584.20     6511.53       72.67          0.0   \n",
       "5   13425.90     12.02     8875.36       51.94     8823.42          0.0   \n",
       "6  233164.62  12415.75    46984.00    46984.00        0.00          0.0   \n",
       "7   66849.97  10952.11    44915.40    36160.54     8754.86          0.0   \n",
       "8    9782.05    815.60     1858.95     1855.37        3.58          0.0   \n",
       "9   35591.33      2.66     7026.39        0.00     7026.39          0.0   \n",
       "\n",
       "           type  year              region  Year Month Day  \n",
       "0  conventional  2017          Pittsburgh  2017    04  23  \n",
       "1  conventional  2015  NorthernNewEngland  2015    12  13  \n",
       "2       organic  2018              Denver  2018    02  25  \n",
       "3       organic  2016         GrandRapids  2016    05  29  \n",
       "4       organic  2018           Charlotte  2018    03  11  \n",
       "5       organic  2015             Seattle  2015    12  20  \n",
       "6  conventional  2015          Sacramento  2015    08  23  \n",
       "7  conventional  2015     RichmondNorfolk  2015    01  11  \n",
       "8       organic  2015             NewYork  2015    09  13  \n",
       "9       organic  2015             Seattle  2015    08  30  "
      ]
     },
     "execution_count": 7,
     "metadata": {},
     "output_type": "execute_result"
    }
   ],
   "source": [
    "dates = [datetime.datetime.strptime(ts, \"%Y-%m-%d\") for ts in df['Date']]\n",
    "df['Year'], df['Month'],  df['Day'] = df['Date'].str.split('-').str\n",
    "df.head(10)"
   ]
  },
  {
   "cell_type": "code",
   "execution_count": 8,
   "id": "05e44f8a",
   "metadata": {},
   "outputs": [],
   "source": [
    "#Lets drop Unnamed: 0 & index column as it just having index values\n",
    "#AS we converted Dates column into new features, we can drop Dates, years columns from our dataset\n",
    "drop_columns = [\"index\",\"Unnamed: 0\",\"Date\",\"year\"]\n",
    "df.drop(columns = drop_columns, axis=1, inplace = True)"
   ]
  },
  {
   "cell_type": "code",
   "execution_count": 9,
   "id": "b4e98832",
   "metadata": {},
   "outputs": [],
   "source": [
    "#Renaming of columns for better understanding\n",
    "df.rename(columns={'4046':'Small',\n",
    "                    '4225':'Large',\n",
    "                    '4770':'XLarge'}, \n",
    "                        inplace=True)"
   ]
  },
  {
   "cell_type": "code",
   "execution_count": 10,
   "id": "48ba81b0",
   "metadata": {},
   "outputs": [],
   "source": [
    "# we can also drop columns Total Volume and Total Bags as total volume is sum of small large and xlarge type of avocados\n",
    "# And total bags is sum of small,large and Xlarge bags\n",
    "clms = [\"Total Volume\", \"Total Bags\"]\n",
    "df.drop(columns = clms, axis = 1, inplace = True)"
   ]
  },
  {
   "cell_type": "code",
   "execution_count": 11,
   "id": "b231187e",
   "metadata": {},
   "outputs": [
    {
     "data": {
      "text/html": [
       "<div>\n",
       "<style scoped>\n",
       "    .dataframe tbody tr th:only-of-type {\n",
       "        vertical-align: middle;\n",
       "    }\n",
       "\n",
       "    .dataframe tbody tr th {\n",
       "        vertical-align: top;\n",
       "    }\n",
       "\n",
       "    .dataframe thead th {\n",
       "        text-align: right;\n",
       "    }\n",
       "</style>\n",
       "<table border=\"1\" class=\"dataframe\">\n",
       "  <thead>\n",
       "    <tr style=\"text-align: right;\">\n",
       "      <th></th>\n",
       "      <th>AveragePrice</th>\n",
       "      <th>Small</th>\n",
       "      <th>Large</th>\n",
       "      <th>XLarge</th>\n",
       "      <th>Small Bags</th>\n",
       "      <th>Large Bags</th>\n",
       "      <th>XLarge Bags</th>\n",
       "      <th>type</th>\n",
       "      <th>region</th>\n",
       "      <th>Year</th>\n",
       "      <th>Month</th>\n",
       "      <th>Day</th>\n",
       "    </tr>\n",
       "  </thead>\n",
       "  <tbody>\n",
       "    <tr>\n",
       "      <th>0</th>\n",
       "      <td>1.34</td>\n",
       "      <td>48209.57</td>\n",
       "      <td>24388.10</td>\n",
       "      <td>1515.43</td>\n",
       "      <td>35733.48</td>\n",
       "      <td>7732.63</td>\n",
       "      <td>0.00</td>\n",
       "      <td>conventional</td>\n",
       "      <td>Pittsburgh</td>\n",
       "      <td>2017</td>\n",
       "      <td>04</td>\n",
       "      <td>23</td>\n",
       "    </tr>\n",
       "    <tr>\n",
       "      <th>1</th>\n",
       "      <td>0.95</td>\n",
       "      <td>2970.12</td>\n",
       "      <td>369076.25</td>\n",
       "      <td>116.84</td>\n",
       "      <td>35319.62</td>\n",
       "      <td>0.00</td>\n",
       "      <td>0.00</td>\n",
       "      <td>conventional</td>\n",
       "      <td>NorthernNewEngland</td>\n",
       "      <td>2015</td>\n",
       "      <td>12</td>\n",
       "      <td>13</td>\n",
       "    </tr>\n",
       "    <tr>\n",
       "      <th>2</th>\n",
       "      <td>1.39</td>\n",
       "      <td>8387.30</td>\n",
       "      <td>751.32</td>\n",
       "      <td>24.81</td>\n",
       "      <td>26783.45</td>\n",
       "      <td>876.54</td>\n",
       "      <td>0.00</td>\n",
       "      <td>organic</td>\n",
       "      <td>Denver</td>\n",
       "      <td>2018</td>\n",
       "      <td>02</td>\n",
       "      <td>25</td>\n",
       "    </tr>\n",
       "    <tr>\n",
       "      <th>3</th>\n",
       "      <td>1.69</td>\n",
       "      <td>19.11</td>\n",
       "      <td>1245.12</td>\n",
       "      <td>0.00</td>\n",
       "      <td>486.67</td>\n",
       "      <td>27.77</td>\n",
       "      <td>0.00</td>\n",
       "      <td>organic</td>\n",
       "      <td>GrandRapids</td>\n",
       "      <td>2016</td>\n",
       "      <td>05</td>\n",
       "      <td>29</td>\n",
       "    </tr>\n",
       "    <tr>\n",
       "      <th>4</th>\n",
       "      <td>1.73</td>\n",
       "      <td>29.01</td>\n",
       "      <td>6861.78</td>\n",
       "      <td>222.69</td>\n",
       "      <td>6511.53</td>\n",
       "      <td>72.67</td>\n",
       "      <td>0.00</td>\n",
       "      <td>organic</td>\n",
       "      <td>Charlotte</td>\n",
       "      <td>2018</td>\n",
       "      <td>03</td>\n",
       "      <td>11</td>\n",
       "    </tr>\n",
       "    <tr>\n",
       "      <th>...</th>\n",
       "      <td>...</td>\n",
       "      <td>...</td>\n",
       "      <td>...</td>\n",
       "      <td>...</td>\n",
       "      <td>...</td>\n",
       "      <td>...</td>\n",
       "      <td>...</td>\n",
       "      <td>...</td>\n",
       "      <td>...</td>\n",
       "      <td>...</td>\n",
       "      <td>...</td>\n",
       "      <td>...</td>\n",
       "    </tr>\n",
       "    <tr>\n",
       "      <th>18244</th>\n",
       "      <td>1.43</td>\n",
       "      <td>1086334.04</td>\n",
       "      <td>625236.22</td>\n",
       "      <td>11469.22</td>\n",
       "      <td>435847.70</td>\n",
       "      <td>543596.56</td>\n",
       "      <td>2391.94</td>\n",
       "      <td>conventional</td>\n",
       "      <td>Southeast</td>\n",
       "      <td>2016</td>\n",
       "      <td>10</td>\n",
       "      <td>23</td>\n",
       "    </tr>\n",
       "    <tr>\n",
       "      <th>18245</th>\n",
       "      <td>1.78</td>\n",
       "      <td>3278.92</td>\n",
       "      <td>23694.61</td>\n",
       "      <td>13.97</td>\n",
       "      <td>36537.93</td>\n",
       "      <td>11.67</td>\n",
       "      <td>0.00</td>\n",
       "      <td>organic</td>\n",
       "      <td>Northeast</td>\n",
       "      <td>2015</td>\n",
       "      <td>02</td>\n",
       "      <td>01</td>\n",
       "    </tr>\n",
       "    <tr>\n",
       "      <th>18246</th>\n",
       "      <td>0.99</td>\n",
       "      <td>1068.04</td>\n",
       "      <td>69555.83</td>\n",
       "      <td>2321.10</td>\n",
       "      <td>13300.88</td>\n",
       "      <td>3292.17</td>\n",
       "      <td>0.00</td>\n",
       "      <td>conventional</td>\n",
       "      <td>Pittsburgh</td>\n",
       "      <td>2015</td>\n",
       "      <td>10</td>\n",
       "      <td>04</td>\n",
       "    </tr>\n",
       "    <tr>\n",
       "      <th>18247</th>\n",
       "      <td>2.67</td>\n",
       "      <td>30.60</td>\n",
       "      <td>3911.27</td>\n",
       "      <td>130.82</td>\n",
       "      <td>5147.98</td>\n",
       "      <td>178.02</td>\n",
       "      <td>0.00</td>\n",
       "      <td>organic</td>\n",
       "      <td>Charlotte</td>\n",
       "      <td>2017</td>\n",
       "      <td>10</td>\n",
       "      <td>08</td>\n",
       "    </tr>\n",
       "    <tr>\n",
       "      <th>18248</th>\n",
       "      <td>1.67</td>\n",
       "      <td>43189.77</td>\n",
       "      <td>163922.46</td>\n",
       "      <td>336.60</td>\n",
       "      <td>117136.44</td>\n",
       "      <td>6584.40</td>\n",
       "      <td>0.00</td>\n",
       "      <td>conventional</td>\n",
       "      <td>Philadelphia</td>\n",
       "      <td>2017</td>\n",
       "      <td>10</td>\n",
       "      <td>08</td>\n",
       "    </tr>\n",
       "  </tbody>\n",
       "</table>\n",
       "<p>18249 rows × 12 columns</p>\n",
       "</div>"
      ],
      "text/plain": [
       "       AveragePrice       Small      Large    XLarge  Small Bags  Large Bags  \\\n",
       "0              1.34    48209.57   24388.10   1515.43    35733.48     7732.63   \n",
       "1              0.95     2970.12  369076.25    116.84    35319.62        0.00   \n",
       "2              1.39     8387.30     751.32     24.81    26783.45      876.54   \n",
       "3              1.69       19.11    1245.12      0.00      486.67       27.77   \n",
       "4              1.73       29.01    6861.78    222.69     6511.53       72.67   \n",
       "...             ...         ...        ...       ...         ...         ...   \n",
       "18244          1.43  1086334.04  625236.22  11469.22   435847.70   543596.56   \n",
       "18245          1.78     3278.92   23694.61     13.97    36537.93       11.67   \n",
       "18246          0.99     1068.04   69555.83   2321.10    13300.88     3292.17   \n",
       "18247          2.67       30.60    3911.27    130.82     5147.98      178.02   \n",
       "18248          1.67    43189.77  163922.46    336.60   117136.44     6584.40   \n",
       "\n",
       "       XLarge Bags          type              region  Year Month Day  \n",
       "0             0.00  conventional          Pittsburgh  2017    04  23  \n",
       "1             0.00  conventional  NorthernNewEngland  2015    12  13  \n",
       "2             0.00       organic              Denver  2018    02  25  \n",
       "3             0.00       organic         GrandRapids  2016    05  29  \n",
       "4             0.00       organic           Charlotte  2018    03  11  \n",
       "...            ...           ...                 ...   ...   ...  ..  \n",
       "18244      2391.94  conventional           Southeast  2016    10  23  \n",
       "18245         0.00       organic           Northeast  2015    02  01  \n",
       "18246         0.00  conventional          Pittsburgh  2015    10  04  \n",
       "18247         0.00       organic           Charlotte  2017    10  08  \n",
       "18248         0.00  conventional        Philadelphia  2017    10  08  \n",
       "\n",
       "[18249 rows x 12 columns]"
      ]
     },
     "execution_count": 11,
     "metadata": {},
     "output_type": "execute_result"
    }
   ],
   "source": [
    "#Lets check oue dataframe after updating\n",
    "df"
   ]
  },
  {
   "cell_type": "code",
   "execution_count": 12,
   "id": "d25a3914",
   "metadata": {},
   "outputs": [
    {
     "data": {
      "image/png": "[encoded data removed]",
      "text/plain": [
       "<Figure size 360x360 with 1 Axes>"
      ]
     },
     "metadata": {
      "needs_background": "light"
     },
     "output_type": "display_data"
    }
   ],
   "source": [
    "#Lets check how Small(4046) affects average price\n",
    "sns.relplot(x = \"Small\", y = \"AveragePrice\", data = df)\n",
    "plt.show()"
   ]
  },
  {
   "cell_type": "markdown",
   "id": "6813b782",
   "metadata": {},
   "source": [
    "* Here we can see the average price is maximum at total number of avocados with small size is under 50000. And above this range the price is between 0.7 to 1.5"
   ]
  },
  {
   "cell_type": "code",
   "execution_count": 13,
   "id": "d5b83900",
   "metadata": {},
   "outputs": [
    {
     "data": {
      "image/png": "[encoded data removed]",
      "text/plain": [
       "<Figure size 360x360 with 1 Axes>"
      ]
     },
     "metadata": {
      "needs_background": "light"
     },
     "output_type": "display_data"
    }
   ],
   "source": [
    "#Lets check how Large(4225) affects average price\n",
    "sns.relplot(x = \"Large\", y = \"AveragePrice\", data = df)\n",
    "plt.show()"
   ]
  },
  {
   "cell_type": "markdown",
   "id": "9a0d0211",
   "metadata": {},
   "source": [
    "* Here we can see the average price is maximum at total number of avocados with large size is under 50000. And above this range the price is between 0.7 to 1.7"
   ]
  },
  {
   "cell_type": "code",
   "execution_count": 14,
   "id": "e3ac1e37",
   "metadata": {},
   "outputs": [
    {
     "data": {
      "image/png": "[encoded data removed]",
      "text/plain": [
       "<Figure size 360x360 with 1 Axes>"
      ]
     },
     "metadata": {
      "needs_background": "light"
     },
     "output_type": "display_data"
    }
   ],
   "source": [
    "#Lets check how XLarge(4770) affects average price\n",
    "sns.relplot(x = \"XLarge\", y = \"AveragePrice\", data = df)\n",
    "plt.show()"
   ]
  },
  {
   "cell_type": "markdown",
   "id": "573de868",
   "metadata": {},
   "source": [
    "* Here we can see the average price is maximum at total number of avocados with XLarge size is under 60000. And above this range the price is between 0.7 to 1.3"
   ]
  },
  {
   "cell_type": "code",
   "execution_count": 15,
   "id": "d8d638d4",
   "metadata": {},
   "outputs": [
    {
     "data": {
      "image/png": "[encoded data removed]",
      "text/plain": [
       "<Figure size 360x360 with 1 Axes>"
      ]
     },
     "metadata": {
      "needs_background": "light"
     },
     "output_type": "display_data"
    }
   ],
   "source": [
    "#Lets check how Small Bags affects average price\n",
    "sns.relplot(x = \"Small Bags\", y = \"AveragePrice\", data = df)\n",
    "plt.show()"
   ]
  },
  {
   "cell_type": "markdown",
   "id": "0c1de565",
   "metadata": {},
   "source": [
    "*  when number small bags sold is below  20000 the average price is maximum. It says when we sell avocados in less quantity we will get more price."
   ]
  },
  {
   "cell_type": "code",
   "execution_count": 16,
   "id": "a5997c4b",
   "metadata": {},
   "outputs": [
    {
     "data": {
      "image/png": "[encoded data removed]",
      "text/plain": [
       "<Figure size 360x360 with 1 Axes>"
      ]
     },
     "metadata": {
      "needs_background": "light"
     },
     "output_type": "display_data"
    }
   ],
   "source": [
    "#Lets check how Large Bags affects average price\n",
    "sns.relplot(x = \"Large Bags\", y = \"AveragePrice\", data = df)\n",
    "plt.show()"
   ]
  },
  {
   "cell_type": "markdown",
   "id": "15c2089b",
   "metadata": {},
   "source": [
    "We can say number of large bags sold is seen in the range in 0 to 400000."
   ]
  },
  {
   "cell_type": "code",
   "execution_count": 17,
   "id": "51545c0f",
   "metadata": {},
   "outputs": [
    {
     "data": {
      "image/png": "[encoded data removed]",
      "text/plain": [
       "<Figure size 360x360 with 1 Axes>"
      ]
     },
     "metadata": {
      "needs_background": "light"
     },
     "output_type": "display_data"
    }
   ],
   "source": [
    "#Lets check how XLarge Bags affects average price\n",
    "sns.relplot(x = \"XLarge Bags\", y = \"AveragePrice\", data = df)\n",
    "plt.show()"
   ]
  },
  {
   "cell_type": "markdown",
   "id": "e06e3db1",
   "metadata": {},
   "source": [
    "* Here when number of XLarge bags sold is below 10000, then we will get more price for avocado."
   ]
  },
  {
   "cell_type": "code",
   "execution_count": 18,
   "id": "14a0e6f5",
   "metadata": {},
   "outputs": [
    {
     "data": {
      "text/plain": [
       "<AxesSubplot:xlabel='type', ylabel='count'>"
      ]
     },
     "execution_count": 18,
     "metadata": {},
     "output_type": "execute_result"
    },
    {
     "data": {
      "image/png": "[encoded data removed]",
      "text/plain": [
       "<Figure size 432x288 with 1 Axes>"
      ]
     },
     "metadata": {
      "needs_background": "light"
     },
     "output_type": "display_data"
    }
   ],
   "source": [
    "#Lets check the cuoun of conventional and organic avocados\n",
    "sns.countplot(df[\"type\"])"
   ]
  },
  {
   "cell_type": "markdown",
   "id": "d7b6c99d",
   "metadata": {},
   "source": [
    "* There are almost equal number of conventional and organic type of avocados"
   ]
  },
  {
   "cell_type": "code",
   "execution_count": 19,
   "id": "580c7e89",
   "metadata": {},
   "outputs": [
    {
     "data": {
      "image/png": "[encoded data removed]",
      "text/plain": [
       "<Figure size 432x288 with 1 Axes>"
      ]
     },
     "metadata": {
      "needs_background": "light"
     },
     "output_type": "display_data"
    }
   ],
   "source": [
    "# lets check the average price based on type\n",
    "sns.barplot(x = \"type\", y = \"AveragePrice\", data = df)\n",
    "plt.show()"
   ]
  },
  {
   "cell_type": "markdown",
   "id": "687358b8",
   "metadata": {},
   "source": [
    "* organic avocado is more expensive as a standard compared to conventional one."
   ]
  },
  {
   "cell_type": "code",
   "execution_count": 20,
   "id": "5664221a",
   "metadata": {},
   "outputs": [
    {
     "data": {
      "text/plain": [
       "Orlando                338\n",
       "LosAngeles             338\n",
       "RichmondNorfolk        338\n",
       "SanDiego               338\n",
       "DallasFtWorth          338\n",
       "Houston                338\n",
       "Pittsburgh             338\n",
       "Roanoke                338\n",
       "NorthernNewEngland     338\n",
       "Southeast              338\n",
       "Spokane                338\n",
       "GreatLakes             338\n",
       "TotalUS                338\n",
       "Chicago                338\n",
       "PhoenixTucson          338\n",
       "Denver                 338\n",
       "NewYork                338\n",
       "NewOrleansMobile       338\n",
       "Indianapolis           338\n",
       "CincinnatiDayton       338\n",
       "California             338\n",
       "GrandRapids            338\n",
       "Charlotte              338\n",
       "Jacksonville           338\n",
       "StLouis                338\n",
       "BaltimoreWashington    338\n",
       "West                   338\n",
       "Albany                 338\n",
       "HartfordSpringfield    338\n",
       "Detroit                338\n",
       "Philadelphia           338\n",
       "Boise                  338\n",
       "Nashville              338\n",
       "SouthCarolina          338\n",
       "Northeast              338\n",
       "SouthCentral           338\n",
       "MiamiFtLauderdale      338\n",
       "Midsouth               338\n",
       "Portland               338\n",
       "Boston                 338\n",
       "Seattle                338\n",
       "HarrisburgScranton     338\n",
       "Louisville             338\n",
       "Columbus               338\n",
       "LasVegas               338\n",
       "Atlanta                338\n",
       "Tampa                  338\n",
       "RaleighGreensboro      338\n",
       "Plains                 338\n",
       "Syracuse               338\n",
       "BuffaloRochester       338\n",
       "Sacramento             338\n",
       "SanFrancisco           338\n",
       "WestTexNewMexico       335\n",
       "Name: region, dtype: int64"
      ]
     },
     "execution_count": 20,
     "metadata": {},
     "output_type": "execute_result"
    }
   ],
   "source": [
    "#Lets check the unique values in region column\n",
    "df[\"region\"].value_counts()"
   ]
  },
  {
   "cell_type": "code",
   "execution_count": 21,
   "id": "b45cd625",
   "metadata": {},
   "outputs": [
    {
     "data": {
      "text/plain": [
       "Text(0.5, 1.0, 'Average Price of Avocado According to Region')"
      ]
     },
     "execution_count": 21,
     "metadata": {},
     "output_type": "execute_result"
    },
    {
     "data": {
      "image/png": "[encoded data removed]",
      "text/plain": [
       "<Figure size 1080x360 with 1 Axes>"
      ]
     },
     "metadata": {
      "needs_background": "light"
     },
     "output_type": "display_data"
    }
   ],
   "source": [
    "#Lets see how average price varies across every region\n",
    "df.groupby(\"region\")[\"AveragePrice\"].sum().sort_values(ascending=False).plot(kind=\"bar\",figsize=(15,5))\n",
    "plt.title('Average Price of Avocado According to Region')"
   ]
  },
  {
   "cell_type": "markdown",
   "id": "4bb21744",
   "metadata": {},
   "source": [
    "* AveragePrice Price of avocado varies from one region to another \n",
    "\n",
    "* HartfordSpringfield being highest and Houston being lowest price to get cheap Avocado.\n",
    "\n"
   ]
  },
  {
   "cell_type": "code",
   "execution_count": 22,
   "id": "d34709a9",
   "metadata": {},
   "outputs": [
    {
     "data": {
      "text/plain": [
       "<AxesSubplot:xlabel='Year', ylabel='AveragePrice'>"
      ]
     },
     "execution_count": 22,
     "metadata": {},
     "output_type": "execute_result"
    },
    {
     "data": {
      "image/png": "[encoded data removed]",
      "text/plain": [
       "<Figure size 432x288 with 1 Axes>"
      ]
     },
     "metadata": {
      "needs_background": "light"
     },
     "output_type": "display_data"
    }
   ],
   "source": [
    "#Lets check average price in every year \n",
    "sns.boxplot(x=\"Year\", y=\"AveragePrice\", data=df)"
   ]
  },
  {
   "cell_type": "markdown",
   "id": "cb43fa02",
   "metadata": {},
   "source": [
    "* We notice the average price was high in 2017 compared to other years."
   ]
  },
  {
   "cell_type": "code",
   "execution_count": 23,
   "id": "d86db8d4",
   "metadata": {},
   "outputs": [
    {
     "data": {
      "text/plain": [
       "<AxesSubplot:xlabel='Month', ylabel='AveragePrice'>"
      ]
     },
     "execution_count": 23,
     "metadata": {},
     "output_type": "execute_result"
    },
    {
     "data": {
      "image/png": "[encoded data removed]",
      "text/plain": [
       "<Figure size 432x288 with 1 Axes>"
      ]
     },
     "metadata": {
      "needs_background": "light"
     },
     "output_type": "display_data"
    }
   ],
   "source": [
    "#Lets see what is the average price af avocado in every month\n",
    "sns.barplot(x=\"Month\", y=\"AveragePrice\", data=df)"
   ]
  },
  {
   "cell_type": "markdown",
   "id": "17f88f10",
   "metadata": {},
   "source": [
    "* From this plot we can say that the average price of the avocado will have significantly higher value in the month of august, september and october compared to other months average price."
   ]
  },
  {
   "cell_type": "code",
   "execution_count": 24,
   "id": "6c9dc6f6",
   "metadata": {},
   "outputs": [
    {
     "data": {
      "image/png": "[encoded data removed]",
      "text/plain": [
       "<Figure size 1800x1080 with 2 Axes>"
      ]
     },
     "metadata": {
      "needs_background": "light"
     },
     "output_type": "display_data"
    }
   ],
   "source": [
    "#Lets plot heatmap to check correlation among differnt features and label\n",
    "df_corr = df.corr()\n",
    "plt.figure(figsize = (25,15))\n",
    "sns.heatmap(df_corr, vmin=-1, vmax=1, annot=True, square=True, center=0, fmt='.2g', linewidths=0.1)\n",
    "plt.tight_layout()"
   ]
  },
  {
   "cell_type": "markdown",
   "id": "469be5a4",
   "metadata": {},
   "source": [
    "* By seeing this heatmap we can say almost every feature is strongly related to some features.\n",
    "\n",
    "* And we can observe all features are having negative coefficient of correlation with average price"
   ]
  },
  {
   "cell_type": "code",
   "execution_count": 25,
   "id": "35433d1a",
   "metadata": {},
   "outputs": [
    {
     "data": {
      "text/html": [
       "<div>\n",
       "<style scoped>\n",
       "    .dataframe tbody tr th:only-of-type {\n",
       "        vertical-align: middle;\n",
       "    }\n",
       "\n",
       "    .dataframe tbody tr th {\n",
       "        vertical-align: top;\n",
       "    }\n",
       "\n",
       "    .dataframe thead th {\n",
       "        text-align: right;\n",
       "    }\n",
       "</style>\n",
       "<table border=\"1\" class=\"dataframe\">\n",
       "  <thead>\n",
       "    <tr style=\"text-align: right;\">\n",
       "      <th></th>\n",
       "      <th>AveragePrice</th>\n",
       "      <th>Small</th>\n",
       "      <th>Large</th>\n",
       "      <th>XLarge</th>\n",
       "      <th>Small Bags</th>\n",
       "      <th>Large Bags</th>\n",
       "      <th>XLarge Bags</th>\n",
       "    </tr>\n",
       "  </thead>\n",
       "  <tbody>\n",
       "    <tr>\n",
       "      <th>count</th>\n",
       "      <td>18249.000000</td>\n",
       "      <td>1.824900e+04</td>\n",
       "      <td>1.824900e+04</td>\n",
       "      <td>1.824900e+04</td>\n",
       "      <td>1.824900e+04</td>\n",
       "      <td>1.824900e+04</td>\n",
       "      <td>18249.000000</td>\n",
       "    </tr>\n",
       "    <tr>\n",
       "      <th>mean</th>\n",
       "      <td>1.405978</td>\n",
       "      <td>2.930084e+05</td>\n",
       "      <td>2.951546e+05</td>\n",
       "      <td>2.283974e+04</td>\n",
       "      <td>1.821947e+05</td>\n",
       "      <td>5.433809e+04</td>\n",
       "      <td>3106.426507</td>\n",
       "    </tr>\n",
       "    <tr>\n",
       "      <th>std</th>\n",
       "      <td>0.402677</td>\n",
       "      <td>1.264989e+06</td>\n",
       "      <td>1.204120e+06</td>\n",
       "      <td>1.074641e+05</td>\n",
       "      <td>7.461785e+05</td>\n",
       "      <td>2.439660e+05</td>\n",
       "      <td>17692.894652</td>\n",
       "    </tr>\n",
       "    <tr>\n",
       "      <th>min</th>\n",
       "      <td>0.440000</td>\n",
       "      <td>0.000000e+00</td>\n",
       "      <td>0.000000e+00</td>\n",
       "      <td>0.000000e+00</td>\n",
       "      <td>0.000000e+00</td>\n",
       "      <td>0.000000e+00</td>\n",
       "      <td>0.000000</td>\n",
       "    </tr>\n",
       "    <tr>\n",
       "      <th>25%</th>\n",
       "      <td>1.100000</td>\n",
       "      <td>8.540700e+02</td>\n",
       "      <td>3.008780e+03</td>\n",
       "      <td>0.000000e+00</td>\n",
       "      <td>2.849420e+03</td>\n",
       "      <td>1.274700e+02</td>\n",
       "      <td>0.000000</td>\n",
       "    </tr>\n",
       "    <tr>\n",
       "      <th>50%</th>\n",
       "      <td>1.370000</td>\n",
       "      <td>8.645300e+03</td>\n",
       "      <td>2.906102e+04</td>\n",
       "      <td>1.849900e+02</td>\n",
       "      <td>2.636282e+04</td>\n",
       "      <td>2.647710e+03</td>\n",
       "      <td>0.000000</td>\n",
       "    </tr>\n",
       "    <tr>\n",
       "      <th>75%</th>\n",
       "      <td>1.660000</td>\n",
       "      <td>1.110202e+05</td>\n",
       "      <td>1.502069e+05</td>\n",
       "      <td>6.243420e+03</td>\n",
       "      <td>8.333767e+04</td>\n",
       "      <td>2.202925e+04</td>\n",
       "      <td>132.500000</td>\n",
       "    </tr>\n",
       "    <tr>\n",
       "      <th>max</th>\n",
       "      <td>3.250000</td>\n",
       "      <td>2.274362e+07</td>\n",
       "      <td>2.047057e+07</td>\n",
       "      <td>2.546439e+06</td>\n",
       "      <td>1.338459e+07</td>\n",
       "      <td>5.719097e+06</td>\n",
       "      <td>551693.650000</td>\n",
       "    </tr>\n",
       "  </tbody>\n",
       "</table>\n",
       "</div>"
      ],
      "text/plain": [
       "       AveragePrice         Small         Large        XLarge    Small Bags  \\\n",
       "count  18249.000000  1.824900e+04  1.824900e+04  1.824900e+04  1.824900e+04   \n",
       "mean       1.405978  2.930084e+05  2.951546e+05  2.283974e+04  1.821947e+05   \n",
       "std        0.402677  1.264989e+06  1.204120e+06  1.074641e+05  7.461785e+05   \n",
       "min        0.440000  0.000000e+00  0.000000e+00  0.000000e+00  0.000000e+00   \n",
       "25%        1.100000  8.540700e+02  3.008780e+03  0.000000e+00  2.849420e+03   \n",
       "50%        1.370000  8.645300e+03  2.906102e+04  1.849900e+02  2.636282e+04   \n",
       "75%        1.660000  1.110202e+05  1.502069e+05  6.243420e+03  8.333767e+04   \n",
       "max        3.250000  2.274362e+07  2.047057e+07  2.546439e+06  1.338459e+07   \n",
       "\n",
       "         Large Bags    XLarge Bags  \n",
       "count  1.824900e+04   18249.000000  \n",
       "mean   5.433809e+04    3106.426507  \n",
       "std    2.439660e+05   17692.894652  \n",
       "min    0.000000e+00       0.000000  \n",
       "25%    1.274700e+02       0.000000  \n",
       "50%    2.647710e+03       0.000000  \n",
       "75%    2.202925e+04     132.500000  \n",
       "max    5.719097e+06  551693.650000  "
      ]
     },
     "execution_count": 25,
     "metadata": {},
     "output_type": "execute_result"
    }
   ],
   "source": [
    "#Lets check descrption of our data\n",
    "df.describe()"
   ]
  },
  {
   "cell_type": "markdown",
   "id": "79ec96d8",
   "metadata": {},
   "source": [
    "* This will tell us there are presence of outliers in every columns, as the data is much differing from minimum to mean and maximum."
   ]
  },
  {
   "cell_type": "code",
   "execution_count": 26,
   "id": "3eae4790",
   "metadata": {},
   "outputs": [
    {
     "data": {
      "image/png": "[encoded data removed]",
      "text/plain": [
       "<Figure size 1800x1440 with 12 Axes>"
      ]
     },
     "metadata": {
      "needs_background": "light"
     },
     "output_type": "display_data"
    }
   ],
   "source": [
    "#Lets have a look on distribution of continuous parameters\n",
    "plt.figure(figsize = (25,20))\n",
    "plotnumber = 1\n",
    "for column in df:\n",
    "    if plotnumber <=13:\n",
    "        ax = plt.subplot(4,4,plotnumber)\n",
    "        plt.hist(df[column], bins=30)\n",
    "        plt.xlabel(column,fontsize = 20)\n",
    "    plotnumber+=1\n",
    "plt.tight_layout()"
   ]
  },
  {
   "cell_type": "markdown",
   "id": "144c2283",
   "metadata": {},
   "source": [
    "* Average price column is normally distributing over the histogram.\n",
    "\n",
    "* Rest of the data are not much varying in term of numbers, so they are showing skewness."
   ]
  },
  {
   "cell_type": "code",
   "execution_count": 27,
   "id": "1be81405",
   "metadata": {},
   "outputs": [
    {
     "data": {
      "text/plain": [
       "AveragePrice     0.580303\n",
       "Small            8.648220\n",
       "Large            8.942466\n",
       "XLarge          10.159396\n",
       "Small Bags       9.540660\n",
       "Large Bags       9.796455\n",
       "XLarge Bags     13.139751\n",
       "Year             0.215339\n",
       "Month            0.106617\n",
       "Day              0.014310\n",
       "dtype: float64"
      ]
     },
     "execution_count": 27,
     "metadata": {},
     "output_type": "execute_result"
    }
   ],
   "source": [
    "#Lets check the skewness present in our dataset\n",
    "df.skew()"
   ]
  },
  {
   "cell_type": "markdown",
   "id": "ed0bb8d6",
   "metadata": {},
   "source": [
    "* I think due to presence of outliers in the dataset, its showing larger skewness"
   ]
  },
  {
   "cell_type": "code",
   "execution_count": 28,
   "id": "29150d75",
   "metadata": {},
   "outputs": [],
   "source": [
    "#lets remove outliers using zscore method\n",
    "from scipy import stats\n",
    "from scipy.stats import zscore\n",
    "z_score = zscore(df[[\"Small\",\"Large\",\"XLarge\",\"Small Bags\",\"Large Bags\",\"XLarge Bags\"]])\n",
    "abs_z_score = np.abs(z_score)\n",
    "filtering_entry = (abs_z_score < 3).all(axis = 1)\n",
    "df = df[filtering_entry]\n",
    "df.reset_index(inplace = True)"
   ]
  },
  {
   "cell_type": "code",
   "execution_count": 29,
   "id": "de98a0b2",
   "metadata": {},
   "outputs": [
    {
     "data": {
      "text/plain": [
       "(17782, 13)"
      ]
     },
     "execution_count": 29,
     "metadata": {},
     "output_type": "execute_result"
    }
   ],
   "source": [
    "#Lets check the shape of our dataset after removal of outliers, to check loss of data\n",
    "df.shape"
   ]
  },
  {
   "cell_type": "markdown",
   "id": "baab78ed",
   "metadata": {},
   "source": [
    "* By removing outliers from dataset we are loosing 2.5% of data, for better results we will remove outliers."
   ]
  },
  {
   "cell_type": "code",
   "execution_count": 30,
   "id": "5e32f12f",
   "metadata": {},
   "outputs": [],
   "source": [
    "#lets drop index column as it in not needed prediction\n",
    "col = [\"index\"]\n",
    "df.drop(columns = col, inplace = True )"
   ]
  },
  {
   "cell_type": "code",
   "execution_count": 31,
   "id": "d09ffbaf",
   "metadata": {},
   "outputs": [
    {
     "data": {
      "text/plain": [
       "AveragePrice    0.560969\n",
       "Small           4.928850\n",
       "Large           4.472729\n",
       "XLarge          5.137120\n",
       "Small Bags      4.238647\n",
       "Large Bags      5.072468\n",
       "XLarge Bags     6.159391\n",
       "Year            0.220792\n",
       "Month           0.098217\n",
       "Day             0.011251\n",
       "dtype: float64"
      ]
     },
     "execution_count": 31,
     "metadata": {},
     "output_type": "execute_result"
    }
   ],
   "source": [
    "# Again check the skewness after removing outliers\n",
    "df.skew()\n",
    "#we can see after removing outliers also there is significant skewness is present\n",
    "#we need to treat this skewness for better results"
   ]
  },
  {
   "cell_type": "code",
   "execution_count": 32,
   "id": "cea36018",
   "metadata": {},
   "outputs": [],
   "source": [
    "#lets seperat our data into label and features\n",
    "#Also remove column \"Day\" from features as its not contributng significantly to price \n",
    "x = df.drop(columns = [\"AveragePrice\", \"Day\"], axis = 1)\n",
    "y = df[\"AveragePrice\"]"
   ]
  },
  {
   "cell_type": "code",
   "execution_count": 33,
   "id": "74e98d12",
   "metadata": {},
   "outputs": [],
   "source": [
    "#Lets treat the skewed data\n",
    "for index in x.skew().index:\n",
    "    if x.skew().loc[index]>0.5:\n",
    "        x[index]=np.log1p(x[index])\n",
    "    if x.skew().loc[index]<-0.5:\n",
    "        x[index]=np.square(x[index])"
   ]
  },
  {
   "cell_type": "code",
   "execution_count": 34,
   "id": "b585c186",
   "metadata": {},
   "outputs": [
    {
     "data": {
      "text/plain": [
       "Small         -0.408827\n",
       "Large          0.113631\n",
       "XLarge         0.079074\n",
       "Small Bags     0.070202\n",
       "Large Bags     0.271867\n",
       "XLarge Bags    1.225926\n",
       "Year           0.220792\n",
       "Month          0.098217\n",
       "dtype: float64"
      ]
     },
     "execution_count": 34,
     "metadata": {},
     "output_type": "execute_result"
    }
   ],
   "source": [
    "#lets have a look skewness after treating\n",
    "x.skew()"
   ]
  },
  {
   "cell_type": "markdown",
   "id": "7a7efb2d",
   "metadata": {},
   "source": [
    "we removed much of skewed data from our dataset."
   ]
  },
  {
   "cell_type": "code",
   "execution_count": 35,
   "id": "56be2939",
   "metadata": {},
   "outputs": [],
   "source": [
    "#Lets bring Numerical features to common scale and convert categorical data to numerics\n",
    "#First create a dataset with only numerical features\n",
    "numeric_data = x.drop(columns = [\"type\",\"region\"])"
   ]
  },
  {
   "cell_type": "code",
   "execution_count": 36,
   "id": "66a2b0b2",
   "metadata": {},
   "outputs": [],
   "source": [
    "#Apply standard scaler to numerical features\n",
    "scaler = StandardScaler()\n",
    "x_num = scaler.fit_transform(numeric_data)\n",
    "x_num = pd.DataFrame(x_num,columns=numeric_data.columns)"
   ]
  },
  {
   "cell_type": "code",
   "execution_count": 37,
   "id": "2b05cbaa",
   "metadata": {},
   "outputs": [
    {
     "data": {
      "text/html": [
       "<div>\n",
       "<style scoped>\n",
       "    .dataframe tbody tr th:only-of-type {\n",
       "        vertical-align: middle;\n",
       "    }\n",
       "\n",
       "    .dataframe tbody tr th {\n",
       "        vertical-align: top;\n",
       "    }\n",
       "\n",
       "    .dataframe thead th {\n",
       "        text-align: right;\n",
       "    }\n",
       "</style>\n",
       "<table border=\"1\" class=\"dataframe\">\n",
       "  <thead>\n",
       "    <tr style=\"text-align: right;\">\n",
       "      <th></th>\n",
       "      <th>Small</th>\n",
       "      <th>Large</th>\n",
       "      <th>XLarge</th>\n",
       "      <th>Small Bags</th>\n",
       "      <th>Large Bags</th>\n",
       "      <th>XLarge Bags</th>\n",
       "      <th>Year</th>\n",
       "      <th>Month</th>\n",
       "    </tr>\n",
       "  </thead>\n",
       "  <tbody>\n",
       "    <tr>\n",
       "      <th>0</th>\n",
       "      <td>0.599310</td>\n",
       "      <td>0.006457</td>\n",
       "      <td>0.613142</td>\n",
       "      <td>0.278298</td>\n",
       "      <td>0.385529</td>\n",
       "      <td>-0.624920</td>\n",
       "      <td>0.914459</td>\n",
       "      <td>-0.620389</td>\n",
       "    </tr>\n",
       "    <tr>\n",
       "      <th>1</th>\n",
       "      <td>-0.257874</td>\n",
       "      <td>1.252336</td>\n",
       "      <td>-0.022439</td>\n",
       "      <td>0.272713</td>\n",
       "      <td>-1.365289</td>\n",
       "      <td>-0.624920</td>\n",
       "      <td>-1.214908</td>\n",
       "      <td>1.641434</td>\n",
       "    </tr>\n",
       "    <tr>\n",
       "      <th>2</th>\n",
       "      <td>0.061389</td>\n",
       "      <td>-1.157584</td>\n",
       "      <td>-0.400229</td>\n",
       "      <td>0.141909</td>\n",
       "      <td>-0.362148</td>\n",
       "      <td>-0.624920</td>\n",
       "      <td>1.979143</td>\n",
       "      <td>-1.185845</td>\n",
       "    </tr>\n",
       "    <tr>\n",
       "      <th>3</th>\n",
       "      <td>-1.794506</td>\n",
       "      <td>-1.018753</td>\n",
       "      <td>-1.208956</td>\n",
       "      <td>-1.359705</td>\n",
       "      <td>-1.118812</td>\n",
       "      <td>-0.624920</td>\n",
       "      <td>-0.150224</td>\n",
       "      <td>-0.337661</td>\n",
       "    </tr>\n",
       "    <tr>\n",
       "      <th>4</th>\n",
       "      <td>-1.671368</td>\n",
       "      <td>-0.473929</td>\n",
       "      <td>0.137013</td>\n",
       "      <td>-0.472007</td>\n",
       "      <td>-0.961526</td>\n",
       "      <td>-0.624920</td>\n",
       "      <td>1.979143</td>\n",
       "      <td>-0.903117</td>\n",
       "    </tr>\n",
       "    <tr>\n",
       "      <th>...</th>\n",
       "      <td>...</td>\n",
       "      <td>...</td>\n",
       "      <td>...</td>\n",
       "      <td>...</td>\n",
       "      <td>...</td>\n",
       "      <td>...</td>\n",
       "      <td>...</td>\n",
       "      <td>...</td>\n",
       "    </tr>\n",
       "    <tr>\n",
       "      <th>17777</th>\n",
       "      <td>1.557495</td>\n",
       "      <td>1.528272</td>\n",
       "      <td>1.116524</td>\n",
       "      <td>1.621186</td>\n",
       "      <td>2.443718</td>\n",
       "      <td>1.745082</td>\n",
       "      <td>-0.150224</td>\n",
       "      <td>1.075978</td>\n",
       "    </tr>\n",
       "    <tr>\n",
       "      <th>17778</th>\n",
       "      <td>-0.227458</td>\n",
       "      <td>-0.005187</td>\n",
       "      <td>-0.535743</td>\n",
       "      <td>0.288988</td>\n",
       "      <td>-1.224465</td>\n",
       "      <td>-0.624920</td>\n",
       "      <td>-1.214908</td>\n",
       "      <td>-1.185845</td>\n",
       "    </tr>\n",
       "    <tr>\n",
       "      <th>17779</th>\n",
       "      <td>-0.572301</td>\n",
       "      <td>0.452052</td>\n",
       "      <td>0.719151</td>\n",
       "      <td>-0.173389</td>\n",
       "      <td>0.067556</td>\n",
       "      <td>-0.624920</td>\n",
       "      <td>-1.214908</td>\n",
       "      <td>1.075978</td>\n",
       "    </tr>\n",
       "    <tr>\n",
       "      <th>17780</th>\n",
       "      <td>-1.655488</td>\n",
       "      <td>-0.666262</td>\n",
       "      <td>0.005452</td>\n",
       "      <td>-0.565137</td>\n",
       "      <td>-0.777547</td>\n",
       "      <td>-0.624920</td>\n",
       "      <td>0.914459</td>\n",
       "      <td>1.075978</td>\n",
       "    </tr>\n",
       "    <tr>\n",
       "      <th>17781</th>\n",
       "      <td>0.565488</td>\n",
       "      <td>0.849219</td>\n",
       "      <td>0.239411</td>\n",
       "      <td>0.880038</td>\n",
       "      <td>0.323234</td>\n",
       "      <td>-0.624920</td>\n",
       "      <td>0.914459</td>\n",
       "      <td>1.075978</td>\n",
       "    </tr>\n",
       "  </tbody>\n",
       "</table>\n",
       "<p>17782 rows × 8 columns</p>\n",
       "</div>"
      ],
      "text/plain": [
       "          Small     Large    XLarge  Small Bags  Large Bags  XLarge Bags  \\\n",
       "0      0.599310  0.006457  0.613142    0.278298    0.385529    -0.624920   \n",
       "1     -0.257874  1.252336 -0.022439    0.272713   -1.365289    -0.624920   \n",
       "2      0.061389 -1.157584 -0.400229    0.141909   -0.362148    -0.624920   \n",
       "3     -1.794506 -1.018753 -1.208956   -1.359705   -1.118812    -0.624920   \n",
       "4     -1.671368 -0.473929  0.137013   -0.472007   -0.961526    -0.624920   \n",
       "...         ...       ...       ...         ...         ...          ...   \n",
       "17777  1.557495  1.528272  1.116524    1.621186    2.443718     1.745082   \n",
       "17778 -0.227458 -0.005187 -0.535743    0.288988   -1.224465    -0.624920   \n",
       "17779 -0.572301  0.452052  0.719151   -0.173389    0.067556    -0.624920   \n",
       "17780 -1.655488 -0.666262  0.005452   -0.565137   -0.777547    -0.624920   \n",
       "17781  0.565488  0.849219  0.239411    0.880038    0.323234    -0.624920   \n",
       "\n",
       "           Year     Month  \n",
       "0      0.914459 -0.620389  \n",
       "1     -1.214908  1.641434  \n",
       "2      1.979143 -1.185845  \n",
       "3     -0.150224 -0.337661  \n",
       "4      1.979143 -0.903117  \n",
       "...         ...       ...  \n",
       "17777 -0.150224  1.075978  \n",
       "17778 -1.214908 -1.185845  \n",
       "17779 -1.214908  1.075978  \n",
       "17780  0.914459  1.075978  \n",
       "17781  0.914459  1.075978  \n",
       "\n",
       "[17782 rows x 8 columns]"
      ]
     },
     "execution_count": 37,
     "metadata": {},
     "output_type": "execute_result"
    }
   ],
   "source": [
    "#lets see how our numerical data looks after scaling\n",
    "x_num"
   ]
  },
  {
   "cell_type": "code",
   "execution_count": 38,
   "id": "faaf6066",
   "metadata": {},
   "outputs": [],
   "source": [
    "#create a dataset with categorical features\n",
    "cat_data = pd.DataFrame(x, columns = [\"type\",\"region\"])"
   ]
  },
  {
   "cell_type": "code",
   "execution_count": 39,
   "id": "9a64788a",
   "metadata": {},
   "outputs": [],
   "source": [
    "#lets convert categorical data into numeric values, using label encoder\n",
    "from sklearn.preprocessing import LabelEncoder\n",
    "\n",
    "leb_enc = LabelEncoder()\n",
    "for i in cat_data.columns:\n",
    "    cat_data[i] = leb_enc.fit_transform(cat_data[i])"
   ]
  },
  {
   "cell_type": "code",
   "execution_count": 40,
   "id": "9d0d98bc",
   "metadata": {},
   "outputs": [
    {
     "data": {
      "text/html": [
       "<div>\n",
       "<style scoped>\n",
       "    .dataframe tbody tr th:only-of-type {\n",
       "        vertical-align: middle;\n",
       "    }\n",
       "\n",
       "    .dataframe tbody tr th {\n",
       "        vertical-align: top;\n",
       "    }\n",
       "\n",
       "    .dataframe thead th {\n",
       "        text-align: right;\n",
       "    }\n",
       "</style>\n",
       "<table border=\"1\" class=\"dataframe\">\n",
       "  <thead>\n",
       "    <tr style=\"text-align: right;\">\n",
       "      <th></th>\n",
       "      <th>Small</th>\n",
       "      <th>Large</th>\n",
       "      <th>XLarge</th>\n",
       "      <th>Small Bags</th>\n",
       "      <th>Large Bags</th>\n",
       "      <th>XLarge Bags</th>\n",
       "      <th>Year</th>\n",
       "      <th>Month</th>\n",
       "      <th>type</th>\n",
       "      <th>region</th>\n",
       "    </tr>\n",
       "  </thead>\n",
       "  <tbody>\n",
       "    <tr>\n",
       "      <th>0</th>\n",
       "      <td>0.599310</td>\n",
       "      <td>0.006457</td>\n",
       "      <td>0.613142</td>\n",
       "      <td>0.278298</td>\n",
       "      <td>0.385529</td>\n",
       "      <td>-0.624920</td>\n",
       "      <td>0.914459</td>\n",
       "      <td>-0.620389</td>\n",
       "      <td>0</td>\n",
       "      <td>34</td>\n",
       "    </tr>\n",
       "    <tr>\n",
       "      <th>1</th>\n",
       "      <td>-0.257874</td>\n",
       "      <td>1.252336</td>\n",
       "      <td>-0.022439</td>\n",
       "      <td>0.272713</td>\n",
       "      <td>-1.365289</td>\n",
       "      <td>-0.624920</td>\n",
       "      <td>-1.214908</td>\n",
       "      <td>1.641434</td>\n",
       "      <td>0</td>\n",
       "      <td>30</td>\n",
       "    </tr>\n",
       "    <tr>\n",
       "      <th>2</th>\n",
       "      <td>0.061389</td>\n",
       "      <td>-1.157584</td>\n",
       "      <td>-0.400229</td>\n",
       "      <td>0.141909</td>\n",
       "      <td>-0.362148</td>\n",
       "      <td>-0.624920</td>\n",
       "      <td>1.979143</td>\n",
       "      <td>-1.185845</td>\n",
       "      <td>1</td>\n",
       "      <td>12</td>\n",
       "    </tr>\n",
       "    <tr>\n",
       "      <th>3</th>\n",
       "      <td>-1.794506</td>\n",
       "      <td>-1.018753</td>\n",
       "      <td>-1.208956</td>\n",
       "      <td>-1.359705</td>\n",
       "      <td>-1.118812</td>\n",
       "      <td>-0.624920</td>\n",
       "      <td>-0.150224</td>\n",
       "      <td>-0.337661</td>\n",
       "      <td>1</td>\n",
       "      <td>14</td>\n",
       "    </tr>\n",
       "    <tr>\n",
       "      <th>4</th>\n",
       "      <td>-1.671368</td>\n",
       "      <td>-0.473929</td>\n",
       "      <td>0.137013</td>\n",
       "      <td>-0.472007</td>\n",
       "      <td>-0.961526</td>\n",
       "      <td>-0.624920</td>\n",
       "      <td>1.979143</td>\n",
       "      <td>-0.903117</td>\n",
       "      <td>1</td>\n",
       "      <td>7</td>\n",
       "    </tr>\n",
       "    <tr>\n",
       "      <th>...</th>\n",
       "      <td>...</td>\n",
       "      <td>...</td>\n",
       "      <td>...</td>\n",
       "      <td>...</td>\n",
       "      <td>...</td>\n",
       "      <td>...</td>\n",
       "      <td>...</td>\n",
       "      <td>...</td>\n",
       "      <td>...</td>\n",
       "      <td>...</td>\n",
       "    </tr>\n",
       "    <tr>\n",
       "      <th>17777</th>\n",
       "      <td>1.557495</td>\n",
       "      <td>1.528272</td>\n",
       "      <td>1.116524</td>\n",
       "      <td>1.621186</td>\n",
       "      <td>2.443718</td>\n",
       "      <td>1.745082</td>\n",
       "      <td>-0.150224</td>\n",
       "      <td>1.075978</td>\n",
       "      <td>0</td>\n",
       "      <td>46</td>\n",
       "    </tr>\n",
       "    <tr>\n",
       "      <th>17778</th>\n",
       "      <td>-0.227458</td>\n",
       "      <td>-0.005187</td>\n",
       "      <td>-0.535743</td>\n",
       "      <td>0.288988</td>\n",
       "      <td>-1.224465</td>\n",
       "      <td>-0.624920</td>\n",
       "      <td>-1.214908</td>\n",
       "      <td>-1.185845</td>\n",
       "      <td>1</td>\n",
       "      <td>29</td>\n",
       "    </tr>\n",
       "    <tr>\n",
       "      <th>17779</th>\n",
       "      <td>-0.572301</td>\n",
       "      <td>0.452052</td>\n",
       "      <td>0.719151</td>\n",
       "      <td>-0.173389</td>\n",
       "      <td>0.067556</td>\n",
       "      <td>-0.624920</td>\n",
       "      <td>-1.214908</td>\n",
       "      <td>1.075978</td>\n",
       "      <td>0</td>\n",
       "      <td>34</td>\n",
       "    </tr>\n",
       "    <tr>\n",
       "      <th>17780</th>\n",
       "      <td>-1.655488</td>\n",
       "      <td>-0.666262</td>\n",
       "      <td>0.005452</td>\n",
       "      <td>-0.565137</td>\n",
       "      <td>-0.777547</td>\n",
       "      <td>-0.624920</td>\n",
       "      <td>0.914459</td>\n",
       "      <td>1.075978</td>\n",
       "      <td>1</td>\n",
       "      <td>7</td>\n",
       "    </tr>\n",
       "    <tr>\n",
       "      <th>17781</th>\n",
       "      <td>0.565488</td>\n",
       "      <td>0.849219</td>\n",
       "      <td>0.239411</td>\n",
       "      <td>0.880038</td>\n",
       "      <td>0.323234</td>\n",
       "      <td>-0.624920</td>\n",
       "      <td>0.914459</td>\n",
       "      <td>1.075978</td>\n",
       "      <td>0</td>\n",
       "      <td>32</td>\n",
       "    </tr>\n",
       "  </tbody>\n",
       "</table>\n",
       "<p>17782 rows × 10 columns</p>\n",
       "</div>"
      ],
      "text/plain": [
       "          Small     Large    XLarge  Small Bags  Large Bags  XLarge Bags  \\\n",
       "0      0.599310  0.006457  0.613142    0.278298    0.385529    -0.624920   \n",
       "1     -0.257874  1.252336 -0.022439    0.272713   -1.365289    -0.624920   \n",
       "2      0.061389 -1.157584 -0.400229    0.141909   -0.362148    -0.624920   \n",
       "3     -1.794506 -1.018753 -1.208956   -1.359705   -1.118812    -0.624920   \n",
       "4     -1.671368 -0.473929  0.137013   -0.472007   -0.961526    -0.624920   \n",
       "...         ...       ...       ...         ...         ...          ...   \n",
       "17777  1.557495  1.528272  1.116524    1.621186    2.443718     1.745082   \n",
       "17778 -0.227458 -0.005187 -0.535743    0.288988   -1.224465    -0.624920   \n",
       "17779 -0.572301  0.452052  0.719151   -0.173389    0.067556    -0.624920   \n",
       "17780 -1.655488 -0.666262  0.005452   -0.565137   -0.777547    -0.624920   \n",
       "17781  0.565488  0.849219  0.239411    0.880038    0.323234    -0.624920   \n",
       "\n",
       "           Year     Month  type  region  \n",
       "0      0.914459 -0.620389     0      34  \n",
       "1     -1.214908  1.641434     0      30  \n",
       "2      1.979143 -1.185845     1      12  \n",
       "3     -0.150224 -0.337661     1      14  \n",
       "4      1.979143 -0.903117     1       7  \n",
       "...         ...       ...   ...     ...  \n",
       "17777 -0.150224  1.075978     0      46  \n",
       "17778 -1.214908 -1.185845     1      29  \n",
       "17779 -1.214908  1.075978     0      34  \n",
       "17780  0.914459  1.075978     1       7  \n",
       "17781  0.914459  1.075978     0      32  \n",
       "\n",
       "[17782 rows x 10 columns]"
      ]
     },
     "execution_count": 40,
     "metadata": {},
     "output_type": "execute_result"
    }
   ],
   "source": [
    "#Now  join both categorical and numerical features detasets\n",
    "X = x_num.join(cat_data)\n",
    "X"
   ]
  },
  {
   "cell_type": "markdown",
   "id": "892b4c83",
   "metadata": {},
   "source": [
    "## Finding best randomstate"
   ]
  },
  {
   "cell_type": "code",
   "execution_count": 41,
   "id": "bdb45c02",
   "metadata": {},
   "outputs": [
    {
     "name": "stdout",
     "output_type": "stream",
     "text": [
      "max r2 score is 0.8690056713072261 on Random State 2\n"
     ]
    }
   ],
   "source": [
    "#Lets find best random state using KNeighborsRegressor\n",
    "from sklearn.neighbors import KNeighborsRegressor\n",
    "max_r_score=0\n",
    "r_state = 0\n",
    "for i in range(1,100):\n",
    "    x_train, x_test, y_train, y_test = train_test_split(X, y, test_size = 0.30,random_state = r_state)\n",
    "    kn = KNeighborsRegressor()\n",
    "    kn.fit(x_train,y_train)\n",
    "    y_pred = kn.predict(x_test)\n",
    "    r2_scr = r2_score(y_test,y_pred)\n",
    "    if r2_scr > max_r_score:\n",
    "        max_r_score = r2_scr\n",
    "        r_state = i\n",
    "print(\"max r2 score is\",max_r_score,\"on Random State\",r_state)"
   ]
  },
  {
   "cell_type": "code",
   "execution_count": 53,
   "id": "11164d6b",
   "metadata": {},
   "outputs": [],
   "source": [
    "#lets split our train data into train and test part\n",
    "x_train, x_test, y_train, y_test = train_test_split(X, y,test_size = 0.30,random_state = 2)"
   ]
  },
  {
   "cell_type": "code",
   "execution_count": 54,
   "id": "3334bbd7",
   "metadata": {},
   "outputs": [
    {
     "name": "stdout",
     "output_type": "stream",
     "text": [
      "MAE : 0.21980249342195649\n",
      "RMSE : 0.2823522908580371\n",
      "Training r2 Score : 50.67456161595252 %\n",
      "Testing r2 Score: 50.08040990808114%\n"
     ]
    }
   ],
   "source": [
    "#Model with LinearRegression\n",
    "from sklearn.linear_model import LinearRegression\n",
    "lr = LinearRegression()\n",
    "lr.fit(x_train, y_train)\n",
    "y_pred = lr.predict(x_train)\n",
    "pred_lr = lr.predict(x_test)\n",
    "\n",
    "#evaluation\n",
    "mse = mean_squared_error(y_test,pred_lr)\n",
    "rmse = np.sqrt(mse)\n",
    "mae = mean_absolute_error(y_test,pred_lr)\n",
    "print(\"MAE :\", mae)\n",
    "print(\"RMSE :\", rmse)\n",
    "\n",
    "# r2 score\n",
    "print(\"Training r2 Score :\", r2_score(y_train,y_pred)*100,'%')\n",
    "print(f\"Testing r2 Score: {r2_score(y_test,pred_lr)*100}%\")"
   ]
  },
  {
   "cell_type": "code",
   "execution_count": 55,
   "id": "42bf99e2",
   "metadata": {},
   "outputs": [
    {
     "name": "stdout",
     "output_type": "stream",
     "text": [
      "MAE : 0.13296344892221182\n",
      "RMSE : 0.2044611176753411\n",
      "Training r2 Score : 100.0 %\n",
      "Testing r2 Score: 73.82360472287388%\n"
     ]
    }
   ],
   "source": [
    "#Model with DecesionTreeRegressor\n",
    "from sklearn.tree import DecisionTreeRegressor\n",
    "dt = DecisionTreeRegressor()\n",
    "dt.fit(x_train, y_train)\n",
    "y_pred = dt.predict(x_train)\n",
    "pred_dt = dt.predict(x_test)\n",
    "\n",
    "#evaluation\n",
    "mse = mean_squared_error(y_test,pred_dt)\n",
    "rmse = np.sqrt(mse)\n",
    "mae = mean_absolute_error(y_test,pred_dt)\n",
    "print(\"MAE :\", mae)\n",
    "print(\"RMSE :\", rmse)\n",
    "\n",
    "# r2 score\n",
    "print(\"Training r2 Score :\", r2_score(y_train,y_pred)*100,'%')\n",
    "print(f\"Testing r2 Score: {r2_score(y_test,pred_dt)*100}%\")"
   ]
  },
  {
   "cell_type": "code",
   "execution_count": 56,
   "id": "db41f056",
   "metadata": {},
   "outputs": [
    {
     "name": "stdout",
     "output_type": "stream",
     "text": [
      "MAE : 0.0945193626991565\n",
      "RMSE : 0.1350543644086685\n",
      "Training r2 Score : 98.37846052780597 %\n",
      "Testing r2 Score: 88.57896070246566%\n"
     ]
    }
   ],
   "source": [
    "#Model with RandomForestRegressor\n",
    "from sklearn.ensemble import RandomForestRegressor\n",
    "\n",
    "rf = RandomForestRegressor()\n",
    "rf.fit(x_train, y_train)\n",
    "y_pred = rf.predict(x_train)\n",
    "pred_rf = rf.predict(x_test)\n",
    "\n",
    "# evaluation\n",
    "mse = mean_squared_error(y_test,pred_rf)\n",
    "rmse = np.sqrt(mse)\n",
    "mae = mean_absolute_error(y_test,pred_rf)\n",
    "print(\"MAE :\", mae)\n",
    "print(\"RMSE :\", rmse)\n",
    "\n",
    "\n",
    "# r2 score\n",
    "print(\"Training r2 Score :\", r2_score(y_train,y_pred)*100,'%')\n",
    "print(f\"Testing r2 Score: {r2_score(y_test,pred_rf)*100}%\")"
   ]
  },
  {
   "cell_type": "code",
   "execution_count": 57,
   "id": "8f3c9f8c",
   "metadata": {},
   "outputs": [
    {
     "name": "stdout",
     "output_type": "stream",
     "text": [
      "MAE : 0.1039152764761012\n",
      "RMSE : 0.14725279604100275\n",
      "Training r2 Score : 91.91538023067068 %\n",
      "Testing r2 Score: 86.42263544792735%\n"
     ]
    }
   ],
   "source": [
    "#Model with KNeighborsRegressor\n",
    "from sklearn.neighbors import KNeighborsRegressor\n",
    "knr =  KNeighborsRegressor()\n",
    "knr.fit(x_train, y_train)\n",
    "y_pred = knr.predict(x_train)\n",
    "pred_knr = knr.predict(x_test)\n",
    "\n",
    "# evaluation\n",
    "mse = mean_squared_error(y_test,pred_knr)\n",
    "rmse = np.sqrt(mse)\n",
    "mae = mean_absolute_error(y_test,pred_knr)\n",
    "print(\"MAE :\", mae)\n",
    "print(\"RMSE :\", rmse)\n",
    "\n",
    "# r2 score\n",
    "print(\"Training r2 Score :\", r2_score(y_train,y_pred)*100,'%')\n",
    "print(f\"Testing r2 Score: {r2_score(y_test,pred_knr)*100}%\")"
   ]
  },
  {
   "cell_type": "code",
   "execution_count": 58,
   "id": "5d3b4c43",
   "metadata": {},
   "outputs": [
    {
     "name": "stdout",
     "output_type": "stream",
     "text": [
      "MAE : 0.1039152764761012\n",
      "RMSE : 0.14725279604100275\n",
      "Training r2 Score : 91.91538023067068 %\n",
      "Testing r2 Score: 86.42263544792735%\n"
     ]
    }
   ],
   "source": [
    "#Lets use SVM regressor\n",
    "from sklearn.svm import SVR\n",
    "svr =  KNeighborsRegressor()\n",
    "svr.fit(x_train, y_train)\n",
    "y_pred = svr.predict(x_train)\n",
    "pred_svr = svr.predict(x_test)\n",
    "\n",
    "# evaluation\n",
    "mse = mean_squared_error(y_test,pred_svr)\n",
    "rmse = np.sqrt(mse)\n",
    "mae = mean_absolute_error(y_test,pred_svr)\n",
    "print(\"MAE :\", mae)\n",
    "print(\"RMSE :\", rmse)\n",
    "\n",
    "# r2 score\n",
    "print(\"Training r2 Score :\", r2_score(y_train,y_pred)*100,'%')\n",
    "print(f\"Testing r2 Score: {r2_score(y_test,pred_svr)*100}%\")"
   ]
  },
  {
   "cell_type": "markdown",
   "id": "78705798",
   "metadata": {},
   "source": [
    "* Looking at the r2 scores of every algorithms, we can say the RandomForestRegressor is giving maximum r2 score and minimum rmse. \n",
    "* Lets go for cross validation to check overfitting problem."
   ]
  },
  {
   "cell_type": "markdown",
   "id": "7cae0224",
   "metadata": {},
   "source": [
    "## Cross validation"
   ]
  },
  {
   "cell_type": "code",
   "execution_count": 59,
   "id": "c432f8a6",
   "metadata": {},
   "outputs": [
    {
     "name": "stdout",
     "output_type": "stream",
     "text": [
      "Cross validation score of LinearRegression model is : 0.5039200999618048\n"
     ]
    }
   ],
   "source": [
    "from sklearn.model_selection import KFold, cross_val_score\n",
    "k_f =KFold(n_splits = 3, shuffle = True)\n",
    "k_f\n",
    "#for  LinearRegression model\n",
    "lr = LinearRegression()\n",
    "c_scores = cross_val_score(lr,X,y,cv=5, scoring = 'r2')\n",
    "print(\"Cross validation score of LinearRegression model is :\", c_scores.mean())"
   ]
  },
  {
   "cell_type": "code",
   "execution_count": 60,
   "id": "cb5a758a",
   "metadata": {},
   "outputs": [
    {
     "name": "stdout",
     "output_type": "stream",
     "text": [
      "Cross validation score of DecisionTreeRegressor model is : 0.7605417930039539\n"
     ]
    }
   ],
   "source": [
    "#for  DecisionTreeRegressor model\n",
    "dt = DecisionTreeRegressor()\n",
    "c_scores = cross_val_score(dt,X,y,cv=5, scoring = 'r2')\n",
    "print(\"Cross validation score of DecisionTreeRegressor model is :\", c_scores.mean())"
   ]
  },
  {
   "cell_type": "code",
   "execution_count": 61,
   "id": "efd1acb2",
   "metadata": {},
   "outputs": [
    {
     "name": "stdout",
     "output_type": "stream",
     "text": [
      "Cross validation score of RandomForestRegressor model is : 0.8897945892207424\n"
     ]
    }
   ],
   "source": [
    "#for RandomForestRegressor model\n",
    "c_scores = cross_val_score(rf,X,y,cv=5, scoring = 'r2')\n",
    "print(\"Cross validation score of RandomForestRegressor model is :\", c_scores.mean())"
   ]
  },
  {
   "cell_type": "code",
   "execution_count": 62,
   "id": "f832496d",
   "metadata": {},
   "outputs": [
    {
     "name": "stdout",
     "output_type": "stream",
     "text": [
      "Cross validation score of KNeighborsRegressor model is : 0.8747887007918098\n"
     ]
    }
   ],
   "source": [
    "#for KNeighborsRegressor model\n",
    "c_scores = cross_val_score(knr,X,y,cv=5, scoring = 'r2')\n",
    "print(\"Cross validation score of KNeighborsRegressor model is :\", c_scores.mean())"
   ]
  },
  {
   "cell_type": "code",
   "execution_count": 63,
   "id": "e508345c",
   "metadata": {},
   "outputs": [
    {
     "name": "stdout",
     "output_type": "stream",
     "text": [
      "Cross validation score of SVM Regressor model is : 0.8747887007918098\n"
     ]
    }
   ],
   "source": [
    "#for SVM Regressor model\n",
    "c_scores = cross_val_score(svr,X,y,cv=5, scoring = 'r2')\n",
    "print(\"Cross validation score of SVM Regressor model is :\", c_scores.mean())"
   ]
  },
  {
   "cell_type": "markdown",
   "id": "1e7bb676",
   "metadata": {},
   "source": [
    "* We can see the minimum difference in r2 score and cv score for randomforestregresor, SVM and KNeighborsRegressor is same of 0.73%. \n",
    "* Looking at MAE and RMSE are less in the case of RandomForestRegressor and it is giving higher accuracy.\n",
    "* Hense we will select RandomForestRegressor as a best fit model"
   ]
  },
  {
   "cell_type": "markdown",
   "id": "b10511dc",
   "metadata": {},
   "source": [
    "## Hyperparameter Tuning"
   ]
  },
  {
   "cell_type": "code",
   "execution_count": 66,
   "id": "62cf532a",
   "metadata": {},
   "outputs": [],
   "source": [
    "grid_params = {\n",
    "                'criterion' : ['mse', 'mae'],\n",
    "                'max_depth': [9,10,12],\n",
    "                'n_estimators':[200,700,900],\n",
    "                'min_samples_leaf': [1,2,3],\n",
    "                'max_features':['aoto','sqrt','log2']\n",
    "                }"
   ]
  },
  {
   "cell_type": "code",
   "execution_count": null,
   "id": "cc3fae5f",
   "metadata": {},
   "outputs": [],
   "source": [
    "GCV =  GridSearchCV(RandomForestRegressor(), grid_params, cv = 5)\n",
    "GCV.fit(x_train,y_train)"
   ]
  },
  {
   "cell_type": "code",
   "execution_count": 55,
   "id": "cad81d63",
   "metadata": {},
   "outputs": [
    {
     "data": {
      "text/plain": [
       "{'max_depth': 12,\n",
       " 'max_features': 'log2',\n",
       " 'min_samples_leaf': 1,\n",
       " 'n_estimators': 500}"
      ]
     },
     "execution_count": 55,
     "metadata": {},
     "output_type": "execute_result"
    }
   ],
   "source": [
    "GCV.best_params_       #printing the best parameters found by GridSearchCV"
   ]
  },
  {
   "cell_type": "code",
   "execution_count": 56,
   "id": "30575656",
   "metadata": {},
   "outputs": [
    {
     "name": "stdout",
     "output_type": "stream",
     "text": [
      "MAE : 0.11423484735253188\n",
      "RMSE : 0.15671144677400264\n",
      "---------------------------------------------------\n",
      "Training r2 Score : 91.63161649447102 %\n",
      "Testing r2 Score: 84.4865393509759%\n"
     ]
    }
   ],
   "source": [
    "#Let's train and test our model using best parameters\n",
    "model = RandomForestRegressor(max_depth=12, n_estimators=500, max_features= 'log2',min_samples_leaf = 1)\n",
    "\n",
    "model.fit(x_train,y_train)\n",
    "pred = model.predict(x_test)\n",
    "y_pred = model.predict(x_train)\n",
    "# evaluation\n",
    "mse = mean_squared_error(y_test, pred)\n",
    "rmse = np.sqrt(mse)\n",
    "mae = mean_absolute_error(y_test,pred)\n",
    "\n",
    "print(\"MAE :\", mae)\n",
    "print(\"RMSE :\", rmse)\n",
    "print(\"---------------------------------------------------\")\n",
    "\n",
    "#r2 scores\n",
    "print(\"Training r2 Score :\", r2_score(y_train,y_pred)*100,'%')\n",
    "print(f\"Testing r2 Score: {r2_score(y_test,pred)*100}%\")"
   ]
  },
  {
   "cell_type": "markdown",
   "id": "48d6458f",
   "metadata": {},
   "source": [
    "This is the final model for average price prediction of avocados"
   ]
  },
  {
   "cell_type": "markdown",
   "id": "49c6e814",
   "metadata": {},
   "source": [
    "- __Lets see final Actual Vs Predicted sample.__"
   ]
  },
  {
   "cell_type": "code",
   "execution_count": 61,
   "id": "08eb3a5f",
   "metadata": {},
   "outputs": [
    {
     "data": {
      "text/html": [
       "<div>\n",
       "<style scoped>\n",
       "    .dataframe tbody tr th:only-of-type {\n",
       "        vertical-align: middle;\n",
       "    }\n",
       "\n",
       "    .dataframe tbody tr th {\n",
       "        vertical-align: top;\n",
       "    }\n",
       "\n",
       "    .dataframe thead th {\n",
       "        text-align: right;\n",
       "    }\n",
       "</style>\n",
       "<table border=\"1\" class=\"dataframe\">\n",
       "  <thead>\n",
       "    <tr style=\"text-align: right;\">\n",
       "      <th></th>\n",
       "      <th>Y Test</th>\n",
       "      <th>Pred</th>\n",
       "    </tr>\n",
       "  </thead>\n",
       "  <tbody>\n",
       "    <tr>\n",
       "      <th>17510</th>\n",
       "      <td>1.00</td>\n",
       "      <td>1.096693</td>\n",
       "    </tr>\n",
       "    <tr>\n",
       "      <th>12513</th>\n",
       "      <td>0.89</td>\n",
       "      <td>0.999316</td>\n",
       "    </tr>\n",
       "    <tr>\n",
       "      <th>2118</th>\n",
       "      <td>1.74</td>\n",
       "      <td>1.554193</td>\n",
       "    </tr>\n",
       "    <tr>\n",
       "      <th>3872</th>\n",
       "      <td>1.64</td>\n",
       "      <td>1.712970</td>\n",
       "    </tr>\n",
       "    <tr>\n",
       "      <th>6672</th>\n",
       "      <td>1.36</td>\n",
       "      <td>1.346139</td>\n",
       "    </tr>\n",
       "  </tbody>\n",
       "</table>\n",
       "</div>"
      ],
      "text/plain": [
       "       Y Test      Pred\n",
       "17510    1.00  1.096693\n",
       "12513    0.89  0.999316\n",
       "2118     1.74  1.554193\n",
       "3872     1.64  1.712970\n",
       "6672     1.36  1.346139"
      ]
     },
     "execution_count": 61,
     "metadata": {},
     "output_type": "execute_result"
    },
    {
     "data": {
      "image/png": "[encoded data removed]",
      "text/plain": [
       "<Figure size 360x360 with 1 Axes>"
      ]
     },
     "metadata": {
      "needs_background": "light"
     },
     "output_type": "display_data"
    }
   ],
   "source": [
    "data = pd.DataFrame({'Y Test':y_test , 'Pred':pred},columns=['Y Test','Pred'])\n",
    "sns.lmplot(x='Y Test',y='Pred',data=data,palette='rainbow')\n",
    "data.head()"
   ]
  },
  {
   "cell_type": "code",
   "execution_count": null,
   "id": "101d9973",
   "metadata": {},
   "outputs": [],
   "source": []
  }
 ],
 "metadata": {
  "kernelspec": {
   "display_name": "Python 3",
   "language": "python",
   "name": "python3"
  },
  "language_info": {
   "codemirror_mode": {
    "name": "ipython",
    "version": 3
   },
   "file_extension": ".py",
   "mimetype": "text/x-python",
   "name": "python",
   "nbconvert_exporter": "python",
   "pygments_lexer": "ipython3",
   "version": "3.8.8"
  }
 },
 "nbformat": 4,
 "nbformat_minor": 5
}
